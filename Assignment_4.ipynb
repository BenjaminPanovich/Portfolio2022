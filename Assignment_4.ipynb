{
 "cells": [
  {
   "cell_type": "code",
   "execution_count": 5,
   "metadata": {},
   "outputs": [],
   "source": [
    "import pandas as pd\n",
    "import numpy as np\n",
    "import matplotlib.pyplot as plt\n",
    "import statsmodels.api as sm\n",
    "from sklearn import linear_model\n",
    "import scipy.stats as stats\n",
    "import seaborn as sns\n",
    "import warnings\n",
    "warnings.filterwarnings(\"ignore\")\n",
    "pd.set_option(\"display.precision\", 4)\n"
   ]
  },
  {
   "cell_type": "code",
   "execution_count": 6,
   "metadata": {},
   "outputs": [],
   "source": [
    "dfa_portfolio = pd.read_excel(\"/Users/benjaminpanovich/Desktop/finm-portfolio-2022/dfa_analysis_data.xlsx\", sheet_name= 'portfolios (total returns)').set_index('Date')\n",
    "dfa_factors = pd.read_excel(\"/Users/benjaminpanovich/Desktop/finm-portfolio-2022/dfa_analysis_data.xlsx\", sheet_name= 'factors').set_index('Date')\n"
   ]
  },
  {
   "cell_type": "markdown",
   "metadata": {},
   "source": [
    "Section 2"
   ]
  },
  {
   "cell_type": "markdown",
   "metadata": {},
   "source": [
    "1."
   ]
  },
  {
   "cell_type": "code",
   "execution_count": 7,
   "metadata": {},
   "outputs": [
    {
     "name": "stdout",
     "output_type": "stream",
     "text": [
      "Subsample period: Beginning - 1980\n"
     ]
    },
    {
     "data": {
      "text/html": [
       "<div>\n",
       "<style scoped>\n",
       "    .dataframe tbody tr th:only-of-type {\n",
       "        vertical-align: middle;\n",
       "    }\n",
       "\n",
       "    .dataframe tbody tr th {\n",
       "        vertical-align: top;\n",
       "    }\n",
       "\n",
       "    .dataframe thead th {\n",
       "        text-align: right;\n",
       "    }\n",
       "</style>\n",
       "<table border=\"1\" class=\"dataframe\">\n",
       "  <thead>\n",
       "    <tr style=\"text-align: right;\">\n",
       "      <th></th>\n",
       "      <th>Mkt-RF</th>\n",
       "      <th>SMB</th>\n",
       "      <th>HML</th>\n",
       "      <th>RF</th>\n",
       "    </tr>\n",
       "  </thead>\n",
       "  <tbody>\n",
       "    <tr>\n",
       "      <th>Mean</th>\n",
       "      <td>0.0811</td>\n",
       "      <td>0.0340</td>\n",
       "      <td>0.0495</td>\n",
       "      <td>0.0277</td>\n",
       "    </tr>\n",
       "    <tr>\n",
       "      <th>Vol</th>\n",
       "      <td>0.2051</td>\n",
       "      <td>0.1146</td>\n",
       "      <td>0.1338</td>\n",
       "      <td>0.0077</td>\n",
       "    </tr>\n",
       "    <tr>\n",
       "      <th>Sharpe</th>\n",
       "      <td>0.3957</td>\n",
       "      <td>0.2966</td>\n",
       "      <td>0.3697</td>\n",
       "      <td>3.6148</td>\n",
       "    </tr>\n",
       "    <tr>\n",
       "      <th>VaR</th>\n",
       "      <td>-0.0840</td>\n",
       "      <td>-0.0434</td>\n",
       "      <td>-0.0429</td>\n",
       "      <td>0.0000</td>\n",
       "    </tr>\n",
       "  </tbody>\n",
       "</table>\n",
       "</div>"
      ],
      "text/plain": [
       "        Mkt-RF     SMB     HML      RF\n",
       "Mean    0.0811  0.0340  0.0495  0.0277\n",
       "Vol     0.2051  0.1146  0.1338  0.0077\n",
       "Sharpe  0.3957  0.2966  0.3697  3.6148\n",
       "VaR    -0.0840 -0.0434 -0.0429  0.0000"
      ]
     },
     "execution_count": 7,
     "metadata": {},
     "output_type": "execute_result"
    }
   ],
   "source": [
    "def summary_stats(df, annual_fac):\n",
    "    ss_df = (df.mean() * annual_fac).to_frame('Mean')\n",
    "    ss_df['Vol'] = df.std() * np.sqrt(annual_fac)\n",
    "    ss_df['Sharpe'] = ss_df['Mean'] / ss_df['Vol']\n",
    "    ss_df['VaR'] = df.quantile(0.05)\n",
    "    return ss_df.T\n",
    "print(\"Subsample period: Beginning - 1980\")\n",
    "summary_stats(dfa_factors[:\"1980\"],12)"
   ]
  },
  {
   "cell_type": "code",
   "execution_count": 8,
   "metadata": {},
   "outputs": [
    {
     "name": "stdout",
     "output_type": "stream",
     "text": [
      "Subsample period: Beginning - 1980\n"
     ]
    },
    {
     "data": {
      "text/html": [
       "<div>\n",
       "<style scoped>\n",
       "    .dataframe tbody tr th:only-of-type {\n",
       "        vertical-align: middle;\n",
       "    }\n",
       "\n",
       "    .dataframe tbody tr th {\n",
       "        vertical-align: top;\n",
       "    }\n",
       "\n",
       "    .dataframe thead th {\n",
       "        text-align: right;\n",
       "    }\n",
       "</style>\n",
       "<table border=\"1\" class=\"dataframe\">\n",
       "  <thead>\n",
       "    <tr style=\"text-align: right;\">\n",
       "      <th></th>\n",
       "      <th>Mkt-RF</th>\n",
       "      <th>SMB</th>\n",
       "      <th>HML</th>\n",
       "      <th>RF</th>\n",
       "    </tr>\n",
       "  </thead>\n",
       "  <tbody>\n",
       "    <tr>\n",
       "      <th>Mean</th>\n",
       "      <td>0.0773</td>\n",
       "      <td>-0.0009</td>\n",
       "      <td>0.0637</td>\n",
       "      <td>0.0631</td>\n",
       "    </tr>\n",
       "    <tr>\n",
       "      <th>Vol</th>\n",
       "      <td>0.1574</td>\n",
       "      <td>0.1184</td>\n",
       "      <td>0.1113</td>\n",
       "      <td>0.0078</td>\n",
       "    </tr>\n",
       "    <tr>\n",
       "      <th>Sharpe</th>\n",
       "      <td>0.4908</td>\n",
       "      <td>-0.0074</td>\n",
       "      <td>0.5727</td>\n",
       "      <td>8.1353</td>\n",
       "    </tr>\n",
       "    <tr>\n",
       "      <th>VaR</th>\n",
       "      <td>-0.0645</td>\n",
       "      <td>-0.0466</td>\n",
       "      <td>-0.0418</td>\n",
       "      <td>0.0025</td>\n",
       "    </tr>\n",
       "  </tbody>\n",
       "</table>\n",
       "</div>"
      ],
      "text/plain": [
       "        Mkt-RF     SMB     HML      RF\n",
       "Mean    0.0773 -0.0009  0.0637  0.0631\n",
       "Vol     0.1574  0.1184  0.1113  0.0078\n",
       "Sharpe  0.4908 -0.0074  0.5727  8.1353\n",
       "VaR    -0.0645 -0.0466 -0.0418  0.0025"
      ]
     },
     "execution_count": 8,
     "metadata": {},
     "output_type": "execute_result"
    }
   ],
   "source": [
    "print(\"Subsample period: Beginning - 1980\")\n",
    "summary_stats(dfa_factors[\"1981\": \"2001\"],12)"
   ]
  },
  {
   "cell_type": "code",
   "execution_count": 9,
   "metadata": {},
   "outputs": [
    {
     "name": "stdout",
     "output_type": "stream",
     "text": [
      "Subsample period: 2002 - End\n"
     ]
    },
    {
     "data": {
      "text/html": [
       "<div>\n",
       "<style scoped>\n",
       "    .dataframe tbody tr th:only-of-type {\n",
       "        vertical-align: middle;\n",
       "    }\n",
       "\n",
       "    .dataframe tbody tr th {\n",
       "        vertical-align: top;\n",
       "    }\n",
       "\n",
       "    .dataframe thead th {\n",
       "        text-align: right;\n",
       "    }\n",
       "</style>\n",
       "<table border=\"1\" class=\"dataframe\">\n",
       "  <thead>\n",
       "    <tr style=\"text-align: right;\">\n",
       "      <th></th>\n",
       "      <th>Mkt-RF</th>\n",
       "      <th>SMB</th>\n",
       "      <th>HML</th>\n",
       "      <th>RF</th>\n",
       "    </tr>\n",
       "  </thead>\n",
       "  <tbody>\n",
       "    <tr>\n",
       "      <th>Mean</th>\n",
       "      <td>0.0833</td>\n",
       "      <td>0.0196</td>\n",
       "      <td>0.0017</td>\n",
       "      <td>0.0115</td>\n",
       "    </tr>\n",
       "    <tr>\n",
       "      <th>Vol</th>\n",
       "      <td>0.1540</td>\n",
       "      <td>0.0858</td>\n",
       "      <td>0.1045</td>\n",
       "      <td>0.0042</td>\n",
       "    </tr>\n",
       "    <tr>\n",
       "      <th>Sharpe</th>\n",
       "      <td>0.5409</td>\n",
       "      <td>0.2288</td>\n",
       "      <td>0.0161</td>\n",
       "      <td>2.7298</td>\n",
       "    </tr>\n",
       "    <tr>\n",
       "      <th>VaR</th>\n",
       "      <td>-0.0788</td>\n",
       "      <td>-0.0378</td>\n",
       "      <td>-0.0410</td>\n",
       "      <td>0.0000</td>\n",
       "    </tr>\n",
       "  </tbody>\n",
       "</table>\n",
       "</div>"
      ],
      "text/plain": [
       "        Mkt-RF     SMB     HML      RF\n",
       "Mean    0.0833  0.0196  0.0017  0.0115\n",
       "Vol     0.1540  0.0858  0.1045  0.0042\n",
       "Sharpe  0.5409  0.2288  0.0161  2.7298\n",
       "VaR    -0.0788 -0.0378 -0.0410  0.0000"
      ]
     },
     "execution_count": 9,
     "metadata": {},
     "output_type": "execute_result"
    }
   ],
   "source": [
    "print(\"Subsample period: 2002 - End\")\n",
    "summary_stats(dfa_factors[\"2002\":],12)"
   ]
  },
  {
   "cell_type": "markdown",
   "metadata": {},
   "source": [
    "a)\n",
    "During the subsample 1981 - 2001 the size factor has a negative expected excess return. The value factor has a positive expected excess return in all subsamples. The size factor has positive expected excess return in all submsaples except 1981 - 2001. The market factor is also positive in all subsamples.\n",
    "b)\n",
    "Up until 1980 the size factor was positive, then went negative during the 1981-2001 subsample. It went back positive (bigger) from 2002 until the end of the sample.\n",
    "c)\n",
    "The value factor appears to get bigger then decreases into the 2002 subssample. It was the biggest in the 1981-2001 subsample.\n",
    "d)\n",
    "Market factor increases in the 2002 subsample and onwards. the size factor has also increased in the 2002 subsample. The value factor decreases in the 2002 subsample. "
   ]
  },
  {
   "cell_type": "code",
   "execution_count": 10,
   "metadata": {},
   "outputs": [
    {
     "name": "stdout",
     "output_type": "stream",
     "text": [
      "MIN Correlation pair is ('Mkt-RF', 'RF')\n",
      "MAX Correlation pair is ('HML', 'Mkt-RF')\n"
     ]
    },
    {
     "data": {
      "image/png": "[encoded data removed]",
      "text/plain": [
       "<Figure size 432x288 with 2 Axes>"
      ]
     },
     "metadata": {
      "needs_background": "light"
     },
     "output_type": "display_data"
    }
   ],
   "source": [
    "def display_correlation(df,list_maxmin=True):\n",
    "    \n",
    "    corrmat = df.corr()\n",
    "    #ignore self-correlation\n",
    "    corrmat[corrmat==1] = None\n",
    "    sns.heatmap(corrmat)\n",
    "\n",
    "    if list_maxmin:\n",
    "        corr_rank = corrmat.unstack().sort_values().dropna()\n",
    "        pair_max = corr_rank.index[-1]\n",
    "        pair_min = corr_rank.index[0]\n",
    "\n",
    "        print(f'MIN Correlation pair is {pair_min}')\n",
    "        print(f'MAX Correlation pair is {pair_max}')\n",
    "\n",
    "display_correlation(dfa_factors[:\"1980\"],True)\n"
   ]
  },
  {
   "cell_type": "code",
   "execution_count": 11,
   "metadata": {},
   "outputs": [
    {
     "name": "stdout",
     "output_type": "stream",
     "text": [
      "MIN Correlation pair is ('Mkt-RF', 'HML')\n",
      "MAX Correlation pair is ('SMB', 'Mkt-RF')\n"
     ]
    },
    {
     "data": {
      "image/png": "[encoded data removed]",
      "text/plain": [
       "<Figure size 432x288 with 2 Axes>"
      ]
     },
     "metadata": {
      "needs_background": "light"
     },
     "output_type": "display_data"
    }
   ],
   "source": [
    "display_correlation(dfa_factors[\"1981\": \"2001\"],True)"
   ]
  },
  {
   "cell_type": "code",
   "execution_count": 12,
   "metadata": {},
   "outputs": [
    {
     "name": "stdout",
     "output_type": "stream",
     "text": [
      "MIN Correlation pair is ('Mkt-RF', 'RF')\n",
      "MAX Correlation pair is ('SMB', 'Mkt-RF')\n"
     ]
    },
    {
     "data": {
      "image/png": "[encoded data removed]",
      "text/plain": [
       "<Figure size 432x288 with 2 Axes>"
      ]
     },
     "metadata": {
      "needs_background": "light"
     },
     "output_type": "display_data"
    }
   ],
   "source": [
    "display_correlation(dfa_factors[\"2002\":],True)"
   ]
  },
  {
   "cell_type": "code",
   "execution_count": 13,
   "metadata": {},
   "outputs": [
    {
     "name": "stdout",
     "output_type": "stream",
     "text": [
      "MIN Correlation pair is ('Mkt-RF', 'RF')\n",
      "MAX Correlation pair is ('SMB', 'Mkt-RF')\n"
     ]
    },
    {
     "data": {
      "image/png": "[encoded data removed]",
      "text/plain": [
       "<Figure size 432x288 with 2 Axes>"
      ]
     },
     "metadata": {
      "needs_background": "light"
     },
     "output_type": "display_data"
    }
   ],
   "source": [
    "display_correlation(dfa_factors,True)"
   ]
  },
  {
   "cell_type": "markdown",
   "metadata": {},
   "source": [
    "The 1980 subsample has the highest overall correlations compared to the other two subsamples. But, the correlations between the factors are relatively small overall. The factors have low correlations to other factors."
   ]
  },
  {
   "cell_type": "markdown",
   "metadata": {},
   "source": [
    "4."
   ]
  },
  {
   "cell_type": "code",
   "execution_count": 14,
   "metadata": {},
   "outputs": [
    {
     "data": {
      "image/png": "[encoded data removed]",
      "text/plain": [
       "<Figure size 576x360 with 1 Axes>"
      ]
     },
     "metadata": {
      "needs_background": "light"
     },
     "output_type": "display_data"
    }
   ],
   "source": [
    "((dfa_factors + 1).cumprod() - 1).plot(figsize=(8,5),title = \"Full-sample\");\n"
   ]
  },
  {
   "cell_type": "code",
   "execution_count": 15,
   "metadata": {},
   "outputs": [
    {
     "data": {
      "image/png": "[encoded data removed]",
      "text/plain": [
       "<Figure size 576x360 with 1 Axes>"
      ]
     },
     "metadata": {
      "needs_background": "light"
     },
     "output_type": "display_data"
    }
   ],
   "source": [
    "((dfa_factors[\"1981\":\"2001\"] + 1).cumprod() - 1).plot(figsize=(8,5),title = \"Subsample period: 1981 - 2001\");\n"
   ]
  },
  {
   "cell_type": "code",
   "execution_count": 16,
   "metadata": {},
   "outputs": [
    {
     "data": {
      "image/png": "[encoded data removed]",
      "text/plain": [
       "<Figure size 576x360 with 1 Axes>"
      ]
     },
     "metadata": {
      "needs_background": "light"
     },
     "output_type": "display_data"
    }
   ],
   "source": [
    "((dfa_factors[\"2001\":] + 1).cumprod() - 1).plot(figsize=(8,5),title = \"Subsample period: 2002 - End\");\n"
   ]
  },
  {
   "cell_type": "markdown",
   "metadata": {},
   "source": [
    "5.\n",
    "The size factor in the 1981 subsample dips below 0 early on in the sample. The value and market factors have positive premiums in the 1981 subsample. In the 2001 subsample, the size factor has a small premium. The value factor in recent years has dipped below 0 then rallied back a little bit. While the size and value factor performances are not amazing, their low correlation with the market is a big advantage. They should not be ruled out and should be looked into more to see if they can actually be valuable. "
   ]
  },
  {
   "cell_type": "markdown",
   "metadata": {},
   "source": [
    "Section 3\n",
    "CAPM"
   ]
  },
  {
   "cell_type": "code",
   "execution_count": 21,
   "metadata": {},
   "outputs": [
    {
     "data": {
      "text/html": [
       "<div>\n",
       "<style scoped>\n",
       "    .dataframe tbody tr th:only-of-type {\n",
       "        vertical-align: middle;\n",
       "    }\n",
       "\n",
       "    .dataframe tbody tr th {\n",
       "        vertical-align: top;\n",
       "    }\n",
       "\n",
       "    .dataframe thead th {\n",
       "        text-align: right;\n",
       "    }\n",
       "</style>\n",
       "<table border=\"1\" class=\"dataframe\">\n",
       "  <thead>\n",
       "    <tr style=\"text-align: right;\">\n",
       "      <th></th>\n",
       "      <th>SMALL LoBM</th>\n",
       "      <th>ME1 BM2</th>\n",
       "      <th>ME1 BM3</th>\n",
       "      <th>ME1 BM4</th>\n",
       "      <th>SMALL HiBM</th>\n",
       "      <th>ME2 BM1</th>\n",
       "      <th>ME2 BM2</th>\n",
       "      <th>ME2 BM3</th>\n",
       "      <th>ME2 BM4</th>\n",
       "      <th>ME2 BM5</th>\n",
       "      <th>...</th>\n",
       "      <th>ME4 BM1</th>\n",
       "      <th>ME4 BM2</th>\n",
       "      <th>ME4 BM3</th>\n",
       "      <th>ME4 BM4</th>\n",
       "      <th>ME4 BM5</th>\n",
       "      <th>BIG LoBM</th>\n",
       "      <th>ME5 BM2</th>\n",
       "      <th>ME5 BM3</th>\n",
       "      <th>ME5 BM4</th>\n",
       "      <th>BIG HiBM</th>\n",
       "    </tr>\n",
       "  </thead>\n",
       "  <tbody>\n",
       "    <tr>\n",
       "      <th>Mean</th>\n",
       "      <td>0.0105</td>\n",
       "      <td>0.0957</td>\n",
       "      <td>0.0929</td>\n",
       "      <td>0.1200</td>\n",
       "      <td>0.1321</td>\n",
       "      <td>0.0603</td>\n",
       "      <td>0.1006</td>\n",
       "      <td>0.1066</td>\n",
       "      <td>0.1077</td>\n",
       "      <td>0.1181</td>\n",
       "      <td>...</td>\n",
       "      <td>0.0927</td>\n",
       "      <td>0.0945</td>\n",
       "      <td>0.0936</td>\n",
       "      <td>0.0998</td>\n",
       "      <td>0.1120</td>\n",
       "      <td>0.0889</td>\n",
       "      <td>0.0816</td>\n",
       "      <td>0.0811</td>\n",
       "      <td>0.0671</td>\n",
       "      <td>0.0963</td>\n",
       "    </tr>\n",
       "    <tr>\n",
       "      <th>Vol</th>\n",
       "      <td>0.2724</td>\n",
       "      <td>0.2359</td>\n",
       "      <td>0.1972</td>\n",
       "      <td>0.1914</td>\n",
       "      <td>0.2077</td>\n",
       "      <td>0.2457</td>\n",
       "      <td>0.2032</td>\n",
       "      <td>0.1831</td>\n",
       "      <td>0.1792</td>\n",
       "      <td>0.2120</td>\n",
       "      <td>...</td>\n",
       "      <td>0.2036</td>\n",
       "      <td>0.1770</td>\n",
       "      <td>0.1733</td>\n",
       "      <td>0.1733</td>\n",
       "      <td>0.1968</td>\n",
       "      <td>0.1632</td>\n",
       "      <td>0.1549</td>\n",
       "      <td>0.1523</td>\n",
       "      <td>0.1703</td>\n",
       "      <td>0.2058</td>\n",
       "    </tr>\n",
       "    <tr>\n",
       "      <th>Sharpe</th>\n",
       "      <td>0.0384</td>\n",
       "      <td>0.4058</td>\n",
       "      <td>0.4711</td>\n",
       "      <td>0.6270</td>\n",
       "      <td>0.6361</td>\n",
       "      <td>0.2453</td>\n",
       "      <td>0.4953</td>\n",
       "      <td>0.5824</td>\n",
       "      <td>0.6012</td>\n",
       "      <td>0.5571</td>\n",
       "      <td>...</td>\n",
       "      <td>0.4551</td>\n",
       "      <td>0.5341</td>\n",
       "      <td>0.5402</td>\n",
       "      <td>0.5756</td>\n",
       "      <td>0.5693</td>\n",
       "      <td>0.5447</td>\n",
       "      <td>0.5271</td>\n",
       "      <td>0.5324</td>\n",
       "      <td>0.3943</td>\n",
       "      <td>0.4681</td>\n",
       "    </tr>\n",
       "    <tr>\n",
       "      <th>VaR</th>\n",
       "      <td>-0.1165</td>\n",
       "      <td>-0.0976</td>\n",
       "      <td>-0.0864</td>\n",
       "      <td>-0.0752</td>\n",
       "      <td>-0.0883</td>\n",
       "      <td>-0.1046</td>\n",
       "      <td>-0.0840</td>\n",
       "      <td>-0.0787</td>\n",
       "      <td>-0.0764</td>\n",
       "      <td>-0.0942</td>\n",
       "      <td>...</td>\n",
       "      <td>-0.0839</td>\n",
       "      <td>-0.0734</td>\n",
       "      <td>-0.0756</td>\n",
       "      <td>-0.0693</td>\n",
       "      <td>-0.0833</td>\n",
       "      <td>-0.0753</td>\n",
       "      <td>-0.0656</td>\n",
       "      <td>-0.0704</td>\n",
       "      <td>-0.0756</td>\n",
       "      <td>-0.0985</td>\n",
       "    </tr>\n",
       "  </tbody>\n",
       "</table>\n",
       "<p>4 rows × 25 columns</p>\n",
       "</div>"
      ],
      "text/plain": [
       "        SMALL LoBM  ME1 BM2  ME1 BM3  ME1 BM4  SMALL HiBM  ME2 BM1  ME2 BM2  \\\n",
       "Mean        0.0105   0.0957   0.0929   0.1200      0.1321   0.0603   0.1006   \n",
       "Vol         0.2724   0.2359   0.1972   0.1914      0.2077   0.2457   0.2032   \n",
       "Sharpe      0.0384   0.4058   0.4711   0.6270      0.6361   0.2453   0.4953   \n",
       "VaR        -0.1165  -0.0976  -0.0864  -0.0752     -0.0883  -0.1046  -0.0840   \n",
       "\n",
       "        ME2 BM3  ME2 BM4  ME2 BM5  ...  ME4 BM1  ME4 BM2  ME4 BM3  ME4 BM4  \\\n",
       "Mean     0.1066   0.1077   0.1181  ...   0.0927   0.0945   0.0936   0.0998   \n",
       "Vol      0.1831   0.1792   0.2120  ...   0.2036   0.1770   0.1733   0.1733   \n",
       "Sharpe   0.5824   0.6012   0.5571  ...   0.4551   0.5341   0.5402   0.5756   \n",
       "VaR     -0.0787  -0.0764  -0.0942  ...  -0.0839  -0.0734  -0.0756  -0.0693   \n",
       "\n",
       "        ME4 BM5  BIG LoBM  ME5 BM2  ME5 BM3  ME5 BM4  BIG HiBM  \n",
       "Mean     0.1120    0.0889   0.0816   0.0811   0.0671    0.0963  \n",
       "Vol      0.1968    0.1632   0.1549   0.1523   0.1703    0.2058  \n",
       "Sharpe   0.5693    0.5447   0.5271   0.5324   0.3943    0.4681  \n",
       "VaR     -0.0833   -0.0753  -0.0656  -0.0704  -0.0756   -0.0985  \n",
       "\n",
       "[4 rows x 25 columns]"
      ]
     },
     "execution_count": 21,
     "metadata": {},
     "output_type": "execute_result"
    }
   ],
   "source": [
    "dfa_portfolio_ex = dfa_portfolio.subtract(dfa_factors['RF'],axis = 'rows')\n",
    "summary_stats(dfa_portfolio_ex[\"1981\":],12)"
   ]
  },
  {
   "cell_type": "markdown",
   "metadata": {},
   "source": [
    "1. \n",
    "No, some of the portfolios with smaller means, have higher volatilities than other portfolios with higher means. You cannot draw the conclusion that the differences in means are explained by differences in the volatilities. Similarly, you cannot explain the differences in mean with the differences in VaR. Mean and VaR have a weak relationship."
   ]
  },
  {
   "cell_type": "markdown",
   "metadata": {},
   "source": [
    "CAPM\n",
    "2."
   ]
  },
  {
   "cell_type": "code",
   "execution_count": 20,
   "metadata": {},
   "outputs": [
    {
     "data": {
      "text/html": [
       "<div>\n",
       "<style scoped>\n",
       "    .dataframe tbody tr th:only-of-type {\n",
       "        vertical-align: middle;\n",
       "    }\n",
       "\n",
       "    .dataframe tbody tr th {\n",
       "        vertical-align: top;\n",
       "    }\n",
       "\n",
       "    .dataframe thead th {\n",
       "        text-align: right;\n",
       "    }\n",
       "</style>\n",
       "<table border=\"1\" class=\"dataframe\">\n",
       "  <thead>\n",
       "    <tr style=\"text-align: right;\">\n",
       "      <th></th>\n",
       "      <th>alpha_hat</th>\n",
       "      <th>beta_hat</th>\n",
       "      <th>info_ratio</th>\n",
       "      <th>treynor_ratio</th>\n",
       "    </tr>\n",
       "  </thead>\n",
       "  <tbody>\n",
       "    <tr>\n",
       "      <th>SMALL LoBM</th>\n",
       "      <td>-0.0987</td>\n",
       "      <td>1.3600</td>\n",
       "      <td>-0.5750</td>\n",
       "      <td>0.0077</td>\n",
       "    </tr>\n",
       "    <tr>\n",
       "      <th>ME1 BM2</th>\n",
       "      <td>0.0018</td>\n",
       "      <td>1.1702</td>\n",
       "      <td>0.0122</td>\n",
       "      <td>0.0818</td>\n",
       "    </tr>\n",
       "    <tr>\n",
       "      <th>ME1 BM3</th>\n",
       "      <td>0.0097</td>\n",
       "      <td>1.0365</td>\n",
       "      <td>0.0857</td>\n",
       "      <td>0.0896</td>\n",
       "    </tr>\n",
       "    <tr>\n",
       "      <th>ME1 BM4</th>\n",
       "      <td>0.0425</td>\n",
       "      <td>0.9652</td>\n",
       "      <td>0.3585</td>\n",
       "      <td>0.1243</td>\n",
       "    </tr>\n",
       "    <tr>\n",
       "      <th>SMALL HiBM</th>\n",
       "      <td>0.0526</td>\n",
       "      <td>0.9907</td>\n",
       "      <td>0.3778</td>\n",
       "      <td>0.1333</td>\n",
       "    </tr>\n",
       "    <tr>\n",
       "      <th>ME2 BM1</th>\n",
       "      <td>-0.0475</td>\n",
       "      <td>1.3433</td>\n",
       "      <td>-0.3677</td>\n",
       "      <td>0.0449</td>\n",
       "    </tr>\n",
       "    <tr>\n",
       "      <th>ME2 BM2</th>\n",
       "      <td>0.0101</td>\n",
       "      <td>1.1286</td>\n",
       "      <td>0.0984</td>\n",
       "      <td>0.0892</td>\n",
       "    </tr>\n",
       "    <tr>\n",
       "      <th>ME2 BM3</th>\n",
       "      <td>0.0248</td>\n",
       "      <td>1.0193</td>\n",
       "      <td>0.2712</td>\n",
       "      <td>0.1046</td>\n",
       "    </tr>\n",
       "    <tr>\n",
       "      <th>ME2 BM4</th>\n",
       "      <td>0.0303</td>\n",
       "      <td>0.9654</td>\n",
       "      <td>0.3094</td>\n",
       "      <td>0.1116</td>\n",
       "    </tr>\n",
       "    <tr>\n",
       "      <th>ME2 BM5</th>\n",
       "      <td>0.0292</td>\n",
       "      <td>1.1086</td>\n",
       "      <td>0.2363</td>\n",
       "      <td>0.1066</td>\n",
       "    </tr>\n",
       "    <tr>\n",
       "      <th>ME3 BM1</th>\n",
       "      <td>-0.0316</td>\n",
       "      <td>1.2767</td>\n",
       "      <td>-0.2936</td>\n",
       "      <td>0.0555</td>\n",
       "    </tr>\n",
       "    <tr>\n",
       "      <th>ME3 BM2</th>\n",
       "      <td>0.0204</td>\n",
       "      <td>1.0896</td>\n",
       "      <td>0.2549</td>\n",
       "      <td>0.0990</td>\n",
       "    </tr>\n",
       "    <tr>\n",
       "      <th>ME3 BM3</th>\n",
       "      <td>0.0136</td>\n",
       "      <td>0.9743</td>\n",
       "      <td>0.1754</td>\n",
       "      <td>0.0942</td>\n",
       "    </tr>\n",
       "    <tr>\n",
       "      <th>ME3 BM4</th>\n",
       "      <td>0.0294</td>\n",
       "      <td>0.9797</td>\n",
       "      <td>0.3253</td>\n",
       "      <td>0.1102</td>\n",
       "    </tr>\n",
       "    <tr>\n",
       "      <th>ME3 BM5</th>\n",
       "      <td>0.0413</td>\n",
       "      <td>1.0407</td>\n",
       "      <td>0.3586</td>\n",
       "      <td>0.1200</td>\n",
       "    </tr>\n",
       "    <tr>\n",
       "      <th>ME4 BM1</th>\n",
       "      <td>-0.0030</td>\n",
       "      <td>1.1919</td>\n",
       "      <td>-0.0353</td>\n",
       "      <td>0.0778</td>\n",
       "    </tr>\n",
       "    <tr>\n",
       "      <th>ME4 BM2</th>\n",
       "      <td>0.0093</td>\n",
       "      <td>1.0615</td>\n",
       "      <td>0.1465</td>\n",
       "      <td>0.0890</td>\n",
       "    </tr>\n",
       "    <tr>\n",
       "      <th>ME4 BM3</th>\n",
       "      <td>0.0135</td>\n",
       "      <td>0.9989</td>\n",
       "      <td>0.1753</td>\n",
       "      <td>0.0937</td>\n",
       "    </tr>\n",
       "    <tr>\n",
       "      <th>ME4 BM4</th>\n",
       "      <td>0.0215</td>\n",
       "      <td>0.9749</td>\n",
       "      <td>0.2566</td>\n",
       "      <td>0.1023</td>\n",
       "    </tr>\n",
       "    <tr>\n",
       "      <th>ME4 BM5</th>\n",
       "      <td>0.0285</td>\n",
       "      <td>1.0410</td>\n",
       "      <td>0.2548</td>\n",
       "      <td>0.1076</td>\n",
       "    </tr>\n",
       "    <tr>\n",
       "      <th>BIG LoBM</th>\n",
       "      <td>0.0092</td>\n",
       "      <td>0.9934</td>\n",
       "      <td>0.1748</td>\n",
       "      <td>0.0895</td>\n",
       "    </tr>\n",
       "    <tr>\n",
       "      <th>ME5 BM2</th>\n",
       "      <td>0.0071</td>\n",
       "      <td>0.9289</td>\n",
       "      <td>0.1270</td>\n",
       "      <td>0.0879</td>\n",
       "    </tr>\n",
       "    <tr>\n",
       "      <th>ME5 BM3</th>\n",
       "      <td>0.0112</td>\n",
       "      <td>0.8712</td>\n",
       "      <td>0.1607</td>\n",
       "      <td>0.0931</td>\n",
       "    </tr>\n",
       "    <tr>\n",
       "      <th>ME5 BM4</th>\n",
       "      <td>-0.0052</td>\n",
       "      <td>0.9010</td>\n",
       "      <td>-0.0533</td>\n",
       "      <td>0.0745</td>\n",
       "    </tr>\n",
       "    <tr>\n",
       "      <th>BIG HiBM</th>\n",
       "      <td>0.0149</td>\n",
       "      <td>1.0150</td>\n",
       "      <td>0.1127</td>\n",
       "      <td>0.0949</td>\n",
       "    </tr>\n",
       "  </tbody>\n",
       "</table>\n",
       "</div>"
      ],
      "text/plain": [
       "            alpha_hat  beta_hat  info_ratio  treynor_ratio\n",
       "SMALL LoBM    -0.0987    1.3600     -0.5750         0.0077\n",
       "ME1 BM2        0.0018    1.1702      0.0122         0.0818\n",
       "ME1 BM3        0.0097    1.0365      0.0857         0.0896\n",
       "ME1 BM4        0.0425    0.9652      0.3585         0.1243\n",
       "SMALL HiBM     0.0526    0.9907      0.3778         0.1333\n",
       "ME2 BM1       -0.0475    1.3433     -0.3677         0.0449\n",
       "ME2 BM2        0.0101    1.1286      0.0984         0.0892\n",
       "ME2 BM3        0.0248    1.0193      0.2712         0.1046\n",
       "ME2 BM4        0.0303    0.9654      0.3094         0.1116\n",
       "ME2 BM5        0.0292    1.1086      0.2363         0.1066\n",
       "ME3 BM1       -0.0316    1.2767     -0.2936         0.0555\n",
       "ME3 BM2        0.0204    1.0896      0.2549         0.0990\n",
       "ME3 BM3        0.0136    0.9743      0.1754         0.0942\n",
       "ME3 BM4        0.0294    0.9797      0.3253         0.1102\n",
       "ME3 BM5        0.0413    1.0407      0.3586         0.1200\n",
       "ME4 BM1       -0.0030    1.1919     -0.0353         0.0778\n",
       "ME4 BM2        0.0093    1.0615      0.1465         0.0890\n",
       "ME4 BM3        0.0135    0.9989      0.1753         0.0937\n",
       "ME4 BM4        0.0215    0.9749      0.2566         0.1023\n",
       "ME4 BM5        0.0285    1.0410      0.2548         0.1076\n",
       "BIG LoBM       0.0092    0.9934      0.1748         0.0895\n",
       "ME5 BM2        0.0071    0.9289      0.1270         0.0879\n",
       "ME5 BM3        0.0112    0.8712      0.1607         0.0931\n",
       "ME5 BM4       -0.0052    0.9010     -0.0533         0.0745\n",
       "BIG HiBM       0.0149    1.0150      0.1127         0.0949"
      ]
     },
     "execution_count": 20,
     "metadata": {},
     "output_type": "execute_result"
    }
   ],
   "source": [
    "capm_data = dfa_portfolio_ex.join(dfa_factors['Mkt-RF'])[\"1981\":]\n",
    "\n",
    "capm_report = pd.DataFrame(index=dfa_portfolio_ex.columns)\n",
    "rhs = sm.add_constant(capm_data['Mkt-RF'])\n",
    "bm_residuals = pd.DataFrame(columns=dfa_portfolio_ex.columns)\n",
    "t_p_values = pd.DataFrame()\n",
    "\n",
    "for portf in dfa_portfolio_ex.columns:\n",
    "    lhs = capm_data[portf]\n",
    "    res = sm.OLS(lhs, rhs, missing='drop').fit()\n",
    "    capm_report.loc[portf, 'alpha_hat'] = res.params['const'] * 12\n",
    "    capm_report.loc[portf, 'beta_hat'] = res.params['Mkt-RF']\n",
    "    capm_report.loc[portf, 'info_ratio'] = np.sqrt(12) * res.params['const'] / res.resid.std()\n",
    "    capm_report.loc[portf, 'treynor_ratio'] = 12 * capm_data[portf].mean() / res.params['Mkt-RF']\n",
    "    bm_residuals[portf] = res.resid\n",
    "    t_p_values.loc[portf, 't-value'] = res.params['const']\n",
    "    t_p_values.loc[portf, 't-value'] = res.tvalues['const']\n",
    "    t_p_values.loc[portf, 'p-value'] = round(res.pvalues['const'], 4)\n",
    "capm_report"
   ]
  },
  {
   "cell_type": "markdown",
   "metadata": {},
   "source": [
    "In CAPM the alphas and information ratios should be zero. The Treynor ratio would also have to equal the mean excess market return."
   ]
  },
  {
   "cell_type": "code",
   "execution_count": 33,
   "metadata": {},
   "outputs": [
    {
     "name": "stdout",
     "output_type": "stream",
     "text": [
      "R-Squared:  0.2582\n",
      "Intercept:  0.198\n",
      "Regression coefficient:  -0.0982\n",
      "Market:  0.0802\n"
     ]
    }
   ],
   "source": [
    "y = dfa_portfolio_ex[\"1981\":].mean()\n",
    "X = sm.add_constant(capm_report['beta_hat'])\n",
    "\n",
    "res = sm.OLS(y,X,missing='drop').fit()\n",
    "res.summary()\n",
    "print(\"R-Squared: \",round(res.rsquared,4))\n",
    "print(\"Intercept: \",round((res.params[0] * 12),4))\n",
    "print(\"Regression coefficient: \",round((res.params[1] * 12),4))\n",
    "print(\"Market: \", round((capm_data['Mkt-RF'].mean() * 12),4))\n"
   ]
  },
  {
   "cell_type": "markdown",
   "metadata": {},
   "source": [
    "3. \n",
    "CAPM says that the intercept should be zero. The true intercept is actually .198. Our R-Squared is very low, CAPM says it should be 100% as the market beta is the only risk associated with higher average returns. Our regression estimate should be equal to the mean excess market return, it is not."
   ]
  },
  {
   "cell_type": "markdown",
   "metadata": {},
   "source": [
    "4. \n",
    "The data shows that there are risks that matter other than the market beta. R squared is also pretty low. There is no evidence to show that the size and value factors matter as well. The size and value factors need to be investigated more to draw a final conclusion. From the data analysis we did, the size and value factors dont contain premia unrelated to CAPM"
   ]
  }
 ],
 "metadata": {
  "kernelspec": {
   "display_name": "Python 3.9.12 ('base')",
   "language": "python",
   "name": "python3"
  },
  "language_info": {
   "codemirror_mode": {
    "name": "ipython",
    "version": 3
   },
   "file_extension": ".py",
   "mimetype": "text/x-python",
   "name": "python",
   "nbconvert_exporter": "python",
   "pygments_lexer": "ipython3",
   "version": "3.9.12"
  },
  "orig_nbformat": 4,
  "vscode": {
   "interpreter": {
    "hash": "cd78fef2128015050713e82ca51c6520b11aee7c9ee8df750520bbbc7384cbaa"
   }
  }
 },
 "nbformat": 4,
 "nbformat_minor": 2
}
