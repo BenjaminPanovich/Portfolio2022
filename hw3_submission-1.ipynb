{
 "cells": [
  {
   "cell_type": "markdown",
   "metadata": {},
   "source": [
    "## Homework 3\n",
    "#### Group A 23 - Benjamin Panovich, Dennis Hua, Tianyang Bao, Joseph Padilla \n",
    "#### Barnstable analysis"
   ]
  },
  {
   "cell_type": "code",
   "execution_count": 2,
   "metadata": {},
   "outputs": [],
   "source": [
    "from sklearn.linear_model import LinearRegression\n",
    "import pandas as pd\n",
    "import numpy as np\n",
    "import matplotlib.pyplot as plt\n",
    "import statsmodels.api as sm\n",
    "#from arch import arch_model\n",
    "#from arch.univariate import GARCH, EWMAVariance \n",
    "from sklearn import linear_model\n",
    "import scipy.stats as stats\n",
    "from statsmodels.regression.rolling import RollingOLS\n",
    "import seaborn as sns\n",
    "import warnings\n",
    "warnings.filterwarnings(\"ignore\")\n",
    "pd.set_option(\"display.precision\", 4)"
   ]
  },
  {
   "cell_type": "code",
   "execution_count": 3,
   "metadata": {},
   "outputs": [
    {
     "data": {
      "text/html": [
       "<div>\n",
       "<style scoped>\n",
       "    .dataframe tbody tr th:only-of-type {\n",
       "        vertical-align: middle;\n",
       "    }\n",
       "\n",
       "    .dataframe tbody tr th {\n",
       "        vertical-align: top;\n",
       "    }\n",
       "\n",
       "    .dataframe thead th {\n",
       "        text-align: right;\n",
       "    }\n",
       "</style>\n",
       "<table border=\"1\" class=\"dataframe\">\n",
       "  <thead>\n",
       "    <tr style=\"text-align: right;\">\n",
       "      <th></th>\n",
       "      <th>SPX</th>\n",
       "      <th>TB1M</th>\n",
       "    </tr>\n",
       "    <tr>\n",
       "      <th>date</th>\n",
       "      <th></th>\n",
       "      <th></th>\n",
       "    </tr>\n",
       "  </thead>\n",
       "  <tbody>\n",
       "    <tr>\n",
       "      <th>1926-01-30</th>\n",
       "      <td>-0.0018</td>\n",
       "      <td>0.0031</td>\n",
       "    </tr>\n",
       "    <tr>\n",
       "      <th>1926-02-27</th>\n",
       "      <td>-0.0333</td>\n",
       "      <td>0.0026</td>\n",
       "    </tr>\n",
       "    <tr>\n",
       "      <th>1926-03-31</th>\n",
       "      <td>-0.0577</td>\n",
       "      <td>0.0026</td>\n",
       "    </tr>\n",
       "    <tr>\n",
       "      <th>1926-04-30</th>\n",
       "      <td>0.0385</td>\n",
       "      <td>0.0023</td>\n",
       "    </tr>\n",
       "    <tr>\n",
       "      <th>1926-05-28</th>\n",
       "      <td>0.0136</td>\n",
       "      <td>0.0027</td>\n",
       "    </tr>\n",
       "    <tr>\n",
       "      <th>...</th>\n",
       "      <td>...</td>\n",
       "      <td>...</td>\n",
       "    </tr>\n",
       "    <tr>\n",
       "      <th>2022-04-29</th>\n",
       "      <td>-0.0876</td>\n",
       "      <td>0.0003</td>\n",
       "    </tr>\n",
       "    <tr>\n",
       "      <th>2022-05-31</th>\n",
       "      <td>0.0004</td>\n",
       "      <td>0.0006</td>\n",
       "    </tr>\n",
       "    <tr>\n",
       "      <th>2022-06-30</th>\n",
       "      <td>-0.0814</td>\n",
       "      <td>0.0009</td>\n",
       "    </tr>\n",
       "    <tr>\n",
       "      <th>2022-07-29</th>\n",
       "      <td>0.0937</td>\n",
       "      <td>0.0018</td>\n",
       "    </tr>\n",
       "    <tr>\n",
       "      <th>2022-08-31</th>\n",
       "      <td>-0.0402</td>\n",
       "      <td>0.0020</td>\n",
       "    </tr>\n",
       "  </tbody>\n",
       "</table>\n",
       "<p>1160 rows × 2 columns</p>\n",
       "</div>"
      ],
      "text/plain": [
       "               SPX    TB1M\n",
       "date                      \n",
       "1926-01-30 -0.0018  0.0031\n",
       "1926-02-27 -0.0333  0.0026\n",
       "1926-03-31 -0.0577  0.0026\n",
       "1926-04-30  0.0385  0.0023\n",
       "1926-05-28  0.0136  0.0027\n",
       "...            ...     ...\n",
       "2022-04-29 -0.0876  0.0003\n",
       "2022-05-31  0.0004  0.0006\n",
       "2022-06-30 -0.0814  0.0009\n",
       "2022-07-29  0.0937  0.0018\n",
       "2022-08-31 -0.0402  0.0020\n",
       "\n",
       "[1160 rows x 2 columns]"
      ]
     },
     "execution_count": 3,
     "metadata": {},
     "output_type": "execute_result"
    }
   ],
   "source": [
    "bn = pd.read_excel('barnstable_analysis_data.xlsx',sheet_name='data',index_col=0)\n",
    "bn"
   ]
  },
  {
   "cell_type": "code",
   "execution_count": 4,
   "metadata": {},
   "outputs": [
    {
     "data": {
      "text/html": [
       "<div>\n",
       "<style scoped>\n",
       "    .dataframe tbody tr th:only-of-type {\n",
       "        vertical-align: middle;\n",
       "    }\n",
       "\n",
       "    .dataframe tbody tr th {\n",
       "        vertical-align: top;\n",
       "    }\n",
       "\n",
       "    .dataframe thead th {\n",
       "        text-align: right;\n",
       "    }\n",
       "</style>\n",
       "<table border=\"1\" class=\"dataframe\">\n",
       "  <thead>\n",
       "    <tr style=\"text-align: right;\">\n",
       "      <th></th>\n",
       "      <th>SPX</th>\n",
       "      <th>TB1M</th>\n",
       "    </tr>\n",
       "    <tr>\n",
       "      <th>date</th>\n",
       "      <th></th>\n",
       "      <th></th>\n",
       "    </tr>\n",
       "  </thead>\n",
       "  <tbody>\n",
       "    <tr>\n",
       "      <th>1926-01-30</th>\n",
       "      <td>-0.0018</td>\n",
       "      <td>0.0031</td>\n",
       "    </tr>\n",
       "    <tr>\n",
       "      <th>1926-02-27</th>\n",
       "      <td>-0.0339</td>\n",
       "      <td>0.0026</td>\n",
       "    </tr>\n",
       "    <tr>\n",
       "      <th>1926-03-31</th>\n",
       "      <td>-0.0594</td>\n",
       "      <td>0.0026</td>\n",
       "    </tr>\n",
       "    <tr>\n",
       "      <th>1926-04-30</th>\n",
       "      <td>0.0378</td>\n",
       "      <td>0.0023</td>\n",
       "    </tr>\n",
       "    <tr>\n",
       "      <th>1926-05-28</th>\n",
       "      <td>0.0135</td>\n",
       "      <td>0.0027</td>\n",
       "    </tr>\n",
       "    <tr>\n",
       "      <th>...</th>\n",
       "      <td>...</td>\n",
       "      <td>...</td>\n",
       "    </tr>\n",
       "    <tr>\n",
       "      <th>2022-04-29</th>\n",
       "      <td>-0.0917</td>\n",
       "      <td>0.0003</td>\n",
       "    </tr>\n",
       "    <tr>\n",
       "      <th>2022-05-31</th>\n",
       "      <td>0.0004</td>\n",
       "      <td>0.0006</td>\n",
       "    </tr>\n",
       "    <tr>\n",
       "      <th>2022-06-30</th>\n",
       "      <td>-0.0850</td>\n",
       "      <td>0.0009</td>\n",
       "    </tr>\n",
       "    <tr>\n",
       "      <th>2022-07-29</th>\n",
       "      <td>0.0896</td>\n",
       "      <td>0.0018</td>\n",
       "    </tr>\n",
       "    <tr>\n",
       "      <th>2022-08-31</th>\n",
       "      <td>-0.0411</td>\n",
       "      <td>0.0020</td>\n",
       "    </tr>\n",
       "  </tbody>\n",
       "</table>\n",
       "<p>1160 rows × 2 columns</p>\n",
       "</div>"
      ],
      "text/plain": [
       "               SPX    TB1M\n",
       "date                      \n",
       "1926-01-30 -0.0018  0.0031\n",
       "1926-02-27 -0.0339  0.0026\n",
       "1926-03-31 -0.0594  0.0026\n",
       "1926-04-30  0.0378  0.0023\n",
       "1926-05-28  0.0135  0.0027\n",
       "...            ...     ...\n",
       "2022-04-29 -0.0917  0.0003\n",
       "2022-05-31  0.0004  0.0006\n",
       "2022-06-30 -0.0850  0.0009\n",
       "2022-07-29  0.0896  0.0018\n",
       "2022-08-31 -0.0411  0.0020\n",
       "\n",
       "[1160 rows x 2 columns]"
      ]
     },
     "execution_count": 4,
     "metadata": {},
     "output_type": "execute_result"
    }
   ],
   "source": [
    "log_bn = np.log(1+bn)\n",
    "log_bn"
   ]
  },
  {
   "cell_type": "markdown",
   "metadata": {},
   "source": [
    "## Model Volatility and VaR"
   ]
  },
  {
   "cell_type": "markdown",
   "metadata": {},
   "source": [
    "### 1. historic-based VaR starting at t=61"
   ]
  },
  {
   "cell_type": "code",
   "execution_count": 5,
   "metadata": {},
   "outputs": [
    {
     "data": {
      "text/html": [
       "<div>\n",
       "<style scoped>\n",
       "    .dataframe tbody tr th:only-of-type {\n",
       "        vertical-align: middle;\n",
       "    }\n",
       "\n",
       "    .dataframe tbody tr th {\n",
       "        vertical-align: top;\n",
       "    }\n",
       "\n",
       "    .dataframe thead th {\n",
       "        text-align: right;\n",
       "    }\n",
       "</style>\n",
       "<table border=\"1\" class=\"dataframe\">\n",
       "  <thead>\n",
       "    <tr style=\"text-align: right;\">\n",
       "      <th></th>\n",
       "      <th>SPX</th>\n",
       "      <th>TB1M</th>\n",
       "      <th>$\\tilde{r}$</th>\n",
       "    </tr>\n",
       "    <tr>\n",
       "      <th>date</th>\n",
       "      <th></th>\n",
       "      <th></th>\n",
       "      <th></th>\n",
       "    </tr>\n",
       "  </thead>\n",
       "  <tbody>\n",
       "    <tr>\n",
       "      <th>1926-01-30</th>\n",
       "      <td>-0.0018</td>\n",
       "      <td>0.0031</td>\n",
       "      <td>-0.0048</td>\n",
       "    </tr>\n",
       "    <tr>\n",
       "      <th>1926-02-27</th>\n",
       "      <td>-0.0333</td>\n",
       "      <td>0.0026</td>\n",
       "      <td>-0.0359</td>\n",
       "    </tr>\n",
       "    <tr>\n",
       "      <th>1926-03-31</th>\n",
       "      <td>-0.0577</td>\n",
       "      <td>0.0026</td>\n",
       "      <td>-0.0603</td>\n",
       "    </tr>\n",
       "    <tr>\n",
       "      <th>1926-04-30</th>\n",
       "      <td>0.0385</td>\n",
       "      <td>0.0023</td>\n",
       "      <td>0.0363</td>\n",
       "    </tr>\n",
       "    <tr>\n",
       "      <th>1926-05-28</th>\n",
       "      <td>0.0136</td>\n",
       "      <td>0.0027</td>\n",
       "      <td>0.0109</td>\n",
       "    </tr>\n",
       "    <tr>\n",
       "      <th>...</th>\n",
       "      <td>...</td>\n",
       "      <td>...</td>\n",
       "      <td>...</td>\n",
       "    </tr>\n",
       "    <tr>\n",
       "      <th>2022-04-29</th>\n",
       "      <td>-0.0876</td>\n",
       "      <td>0.0003</td>\n",
       "      <td>-0.0879</td>\n",
       "    </tr>\n",
       "    <tr>\n",
       "      <th>2022-05-31</th>\n",
       "      <td>0.0004</td>\n",
       "      <td>0.0006</td>\n",
       "      <td>-0.0002</td>\n",
       "    </tr>\n",
       "    <tr>\n",
       "      <th>2022-06-30</th>\n",
       "      <td>-0.0814</td>\n",
       "      <td>0.0009</td>\n",
       "      <td>-0.0824</td>\n",
       "    </tr>\n",
       "    <tr>\n",
       "      <th>2022-07-29</th>\n",
       "      <td>0.0937</td>\n",
       "      <td>0.0018</td>\n",
       "      <td>0.0919</td>\n",
       "    </tr>\n",
       "    <tr>\n",
       "      <th>2022-08-31</th>\n",
       "      <td>-0.0402</td>\n",
       "      <td>0.0020</td>\n",
       "      <td>-0.0422</td>\n",
       "    </tr>\n",
       "  </tbody>\n",
       "</table>\n",
       "<p>1160 rows × 3 columns</p>\n",
       "</div>"
      ],
      "text/plain": [
       "               SPX    TB1M  $\\tilde{r}$\n",
       "date                                   \n",
       "1926-01-30 -0.0018  0.0031      -0.0048\n",
       "1926-02-27 -0.0333  0.0026      -0.0359\n",
       "1926-03-31 -0.0577  0.0026      -0.0603\n",
       "1926-04-30  0.0385  0.0023       0.0363\n",
       "1926-05-28  0.0136  0.0027       0.0109\n",
       "...            ...     ...          ...\n",
       "2022-04-29 -0.0876  0.0003      -0.0879\n",
       "2022-05-31  0.0004  0.0006      -0.0002\n",
       "2022-06-30 -0.0814  0.0009      -0.0824\n",
       "2022-07-29  0.0937  0.0018       0.0919\n",
       "2022-08-31 -0.0402  0.0020      -0.0422\n",
       "\n",
       "[1160 rows x 3 columns]"
      ]
     },
     "execution_count": 5,
     "metadata": {},
     "output_type": "execute_result"
    }
   ],
   "source": [
    "#first we display r_tilde\n",
    "bn[r'$\\tilde{r}$'] = bn.SPX - bn.TB1M\n",
    "bn"
   ]
  },
  {
   "cell_type": "markdown",
   "metadata": {},
   "source": [
    "#### (a) Plot 'best estimate of the time-t VaR based on data thru t-1' "
   ]
  },
  {
   "cell_type": "code",
   "execution_count": 6,
   "metadata": {},
   "outputs": [
    {
     "data": {
      "image/png": "[encoded data removed]",
      "text/plain": [
       "<Figure size 432x288 with 1 Axes>"
      ]
     },
     "metadata": {
      "needs_background": "light"
     },
     "output_type": "display_data"
    }
   ],
   "source": [
    "his_VaR = bn[r'$\\tilde{r}$'].shift().expanding(min_periods=60).quantile(.05)\n",
    "his_VaR.plot()\n",
    "\n",
    "plt.title('Historic-based VaR')\n",
    "plt.ylabel('VaR')\n",
    "plt.xlabel('Date')\n",
    "plt.show()\n"
   ]
  },
  {
   "cell_type": "markdown",
   "metadata": {},
   "source": [
    "#### (b) Frequency of periods when r_tilde is less than (a)"
   ]
  },
  {
   "cell_type": "code",
   "execution_count": 7,
   "metadata": {},
   "outputs": [
    {
     "data": {
      "text/plain": [
       "0.03"
      ]
     },
     "execution_count": 7,
     "metadata": {},
     "output_type": "execute_result"
    }
   ],
   "source": [
    "freq = len(bn[r'$\\tilde{r}$'][bn[r'$\\tilde{r}$'] < his_VaR]) / len(his_VaR.dropna())\n",
    "round(freq,5)\n",
    "\n",
    "#freq_var(his_VaR)"
   ]
  },
  {
   "cell_type": "markdown",
   "metadata": {},
   "source": [
    "#### (c) Drawbacks of historic VaR\n",
    "value-at-risk.net/shortcomings-historical-simulation/"
   ]
  },
  {
   "cell_type": "markdown",
   "metadata": {},
   "source": [
    "VaR here doesn't reflect the 5% percentile. It mostly because the measurement reacts slowly to real market events. It possesses backward looking, which means VaR mostly reflects events/movements in the past. It also distributes equal weight across the time horizon while calculating historic VaR."
   ]
  },
  {
   "cell_type": "markdown",
   "metadata": {},
   "source": [
    "### 2. Volatility"
   ]
  },
  {
   "cell_type": "markdown",
   "metadata": {},
   "source": [
    "##### (a) Plot expanding vol, rolling vol, and vol\n",
    "vol == stdev"
   ]
  },
  {
   "cell_type": "code",
   "execution_count": 8,
   "metadata": {},
   "outputs": [],
   "source": [
    "#expanding\n",
    "vol = (((bn[r'$\\tilde{r}$']**2).shift(1).expanding(60).mean())**0.5).to_frame('Expanding Vol')\n",
    "#rolling\n",
    "vol['Rolling Vol'] = (((bn[r'$\\tilde{r}$']**2).shift(1).rolling(60).mean())**0.5)\n",
    "#vol CHECK TA SESSION\n",
    "#vol['Normal Dist'] = bn[r'$\\tilde{r}$'].std() #(1.65)**(1/60)\n"
   ]
  },
  {
   "cell_type": "code",
   "execution_count": 9,
   "metadata": {},
   "outputs": [
    {
     "data": {
      "image/png": "[encoded data removed]",
      "text/plain": [
       "<Figure size 432x288 with 1 Axes>"
      ]
     },
     "metadata": {
      "needs_background": "light"
     },
     "output_type": "display_data"
    }
   ],
   "source": [
    "vol.dropna(inplace=True)\n",
    "vol.plot()\n",
    "\n",
    "plt.title('Vol Chart')\n",
    "plt.xlabel('Date')\n",
    "plt.ylabel(r'$\\tilde{r}$')\n",
    "plt.show()"
   ]
  },
  {
   "cell_type": "markdown",
   "metadata": {},
   "source": [
    "##### (b) VaR_.05 = -1.65 * vol"
   ]
  },
  {
   "cell_type": "code",
   "execution_count": 10,
   "metadata": {},
   "outputs": [
    {
     "data": {
      "text/html": [
       "<div>\n",
       "<style scoped>\n",
       "    .dataframe tbody tr th:only-of-type {\n",
       "        vertical-align: middle;\n",
       "    }\n",
       "\n",
       "    .dataframe tbody tr th {\n",
       "        vertical-align: top;\n",
       "    }\n",
       "\n",
       "    .dataframe thead th {\n",
       "        text-align: right;\n",
       "    }\n",
       "</style>\n",
       "<table border=\"1\" class=\"dataframe\">\n",
       "  <thead>\n",
       "    <tr style=\"text-align: right;\">\n",
       "      <th></th>\n",
       "      <th>Expanding Vol</th>\n",
       "      <th>Rolling Vol</th>\n",
       "    </tr>\n",
       "    <tr>\n",
       "      <th>date</th>\n",
       "      <th></th>\n",
       "      <th></th>\n",
       "    </tr>\n",
       "  </thead>\n",
       "  <tbody>\n",
       "    <tr>\n",
       "      <th>1931-01-31</th>\n",
       "      <td>-0.0992</td>\n",
       "      <td>-0.0992</td>\n",
       "    </tr>\n",
       "    <tr>\n",
       "      <th>1931-02-28</th>\n",
       "      <td>-0.0992</td>\n",
       "      <td>-0.1000</td>\n",
       "    </tr>\n",
       "    <tr>\n",
       "      <th>1931-03-31</th>\n",
       "      <td>-0.1010</td>\n",
       "      <td>-0.1024</td>\n",
       "    </tr>\n",
       "    <tr>\n",
       "      <th>1931-04-30</th>\n",
       "      <td>-0.1013</td>\n",
       "      <td>-0.1027</td>\n",
       "    </tr>\n",
       "    <tr>\n",
       "      <th>1931-05-29</th>\n",
       "      <td>-0.1023</td>\n",
       "      <td>-0.1043</td>\n",
       "    </tr>\n",
       "    <tr>\n",
       "      <th>...</th>\n",
       "      <td>...</td>\n",
       "      <td>...</td>\n",
       "    </tr>\n",
       "    <tr>\n",
       "      <th>2022-04-29</th>\n",
       "      <td>-0.0901</td>\n",
       "      <td>-0.0776</td>\n",
       "    </tr>\n",
       "    <tr>\n",
       "      <th>2022-05-31</th>\n",
       "      <td>-0.0902</td>\n",
       "      <td>-0.0798</td>\n",
       "    </tr>\n",
       "    <tr>\n",
       "      <th>2022-06-30</th>\n",
       "      <td>-0.0902</td>\n",
       "      <td>-0.0798</td>\n",
       "    </tr>\n",
       "    <tr>\n",
       "      <th>2022-07-29</th>\n",
       "      <td>-0.0902</td>\n",
       "      <td>-0.0817</td>\n",
       "    </tr>\n",
       "    <tr>\n",
       "      <th>2022-08-31</th>\n",
       "      <td>-0.0903</td>\n",
       "      <td>-0.0839</td>\n",
       "    </tr>\n",
       "  </tbody>\n",
       "</table>\n",
       "<p>820 rows × 2 columns</p>\n",
       "</div>"
      ],
      "text/plain": [
       "            Expanding Vol  Rolling Vol\n",
       "date                                  \n",
       "1931-01-31        -0.0992      -0.0992\n",
       "1931-02-28        -0.0992      -0.1000\n",
       "1931-03-31        -0.1010      -0.1024\n",
       "1931-04-30        -0.1013      -0.1027\n",
       "1931-05-29        -0.1023      -0.1043\n",
       "...                   ...          ...\n",
       "2022-04-29        -0.0901      -0.0776\n",
       "2022-05-31        -0.0902      -0.0798\n",
       "2022-06-30        -0.0902      -0.0798\n",
       "2022-07-29        -0.0902      -0.0817\n",
       "2022-08-31        -0.0903      -0.0839\n",
       "\n",
       "[820 rows x 2 columns]"
      ]
     },
     "execution_count": 10,
     "metadata": {},
     "output_type": "execute_result"
    }
   ],
   "source": [
    "VaR = -1.65 * vol\n",
    "VaR"
   ]
  },
  {
   "cell_type": "markdown",
   "metadata": {},
   "source": [
    "#### (c) Frequency of periods when r_tilde is less than (b)"
   ]
  },
  {
   "cell_type": "code",
   "execution_count": 11,
   "metadata": {},
   "outputs": [],
   "source": [
    "freq_df = pd.DataFrame(index = ['Freq'], columns = VaR.columns)"
   ]
  },
  {
   "cell_type": "code",
   "execution_count": 12,
   "metadata": {},
   "outputs": [
    {
     "data": {
      "text/plain": [
       "date\n",
       "1931-01-31   -0.0992\n",
       "1931-02-28   -0.0992\n",
       "1931-03-31   -0.1010\n",
       "1931-04-30   -0.1013\n",
       "1931-05-29   -0.1023\n",
       "               ...  \n",
       "2022-04-29   -0.0901\n",
       "2022-05-31   -0.0902\n",
       "2022-06-30   -0.0902\n",
       "2022-07-29   -0.0902\n",
       "2022-08-31   -0.0903\n",
       "Name: Expanding Vol, Length: 820, dtype: float64"
      ]
     },
     "execution_count": 12,
     "metadata": {},
     "output_type": "execute_result"
    }
   ],
   "source": [
    "VaR['Expanding Vol']"
   ]
  },
  {
   "cell_type": "code",
   "execution_count": 13,
   "metadata": {},
   "outputs": [
    {
     "data": {
      "text/html": [
       "<div>\n",
       "<style scoped>\n",
       "    .dataframe tbody tr th:only-of-type {\n",
       "        vertical-align: middle;\n",
       "    }\n",
       "\n",
       "    .dataframe tbody tr th {\n",
       "        vertical-align: top;\n",
       "    }\n",
       "\n",
       "    .dataframe thead th {\n",
       "        text-align: right;\n",
       "    }\n",
       "</style>\n",
       "<table border=\"1\" class=\"dataframe\">\n",
       "  <thead>\n",
       "    <tr style=\"text-align: right;\">\n",
       "      <th></th>\n",
       "      <th>Expanding Vol</th>\n",
       "      <th>Rolling Vol</th>\n",
       "    </tr>\n",
       "  </thead>\n",
       "  <tbody>\n",
       "    <tr>\n",
       "      <th>Freq</th>\n",
       "      <td>0.0207</td>\n",
       "      <td>0.05</td>\n",
       "    </tr>\n",
       "  </tbody>\n",
       "</table>\n",
       "</div>"
      ],
      "text/plain": [
       "      Expanding Vol  Rolling Vol\n",
       "Freq         0.0207         0.05"
      ]
     },
     "execution_count": 13,
     "metadata": {},
     "output_type": "execute_result"
    }
   ],
   "source": [
    "#locate all r_tilde from bn and compare them with VaRs\n",
    "#bn.loc[VaR.index,r'$\\tilde{r}$']\n",
    "for col in freq_df:\n",
    "    freq_df[col] = len(VaR[bn.loc[VaR.index, r'$\\tilde{r}$'] < VaR[col]])/ len(VaR[col].dropna())#.index)\n",
    "round(freq_df,4)\n"
   ]
  },
  {
   "cell_type": "markdown",
   "metadata": {},
   "source": [
    "#### (d) Compare with frequency of historic based var"
   ]
  },
  {
   "cell_type": "code",
   "execution_count": 14,
   "metadata": {},
   "outputs": [
    {
     "data": {
      "text/html": [
       "<div>\n",
       "<style scoped>\n",
       "    .dataframe tbody tr th:only-of-type {\n",
       "        vertical-align: middle;\n",
       "    }\n",
       "\n",
       "    .dataframe tbody tr th {\n",
       "        vertical-align: top;\n",
       "    }\n",
       "\n",
       "    .dataframe thead th {\n",
       "        text-align: right;\n",
       "    }\n",
       "</style>\n",
       "<table border=\"1\" class=\"dataframe\">\n",
       "  <thead>\n",
       "    <tr style=\"text-align: right;\">\n",
       "      <th></th>\n",
       "      <th>Expanding Vol</th>\n",
       "      <th>Rolling Vol</th>\n",
       "      <th>Historic based Vol</th>\n",
       "    </tr>\n",
       "  </thead>\n",
       "  <tbody>\n",
       "    <tr>\n",
       "      <th>Freq</th>\n",
       "      <td>0.0207</td>\n",
       "      <td>0.05</td>\n",
       "      <td>0.03</td>\n",
       "    </tr>\n",
       "  </tbody>\n",
       "</table>\n",
       "</div>"
      ],
      "text/plain": [
       "      Expanding Vol  Rolling Vol  Historic based Vol\n",
       "Freq         0.0207         0.05                0.03"
      ]
     },
     "execution_count": 14,
     "metadata": {},
     "output_type": "execute_result"
    }
   ],
   "source": [
    "freq_df['Historic based Vol'] = freq\n",
    "freq_df"
   ]
  },
  {
   "cell_type": "markdown",
   "metadata": {},
   "source": [
    "Rolling vol seems to be most aligning/'correct' in term of the percentile percentage as .05 percentile. \n",
    "Historic based calculated the vol also by rolling the window of 60, which may result in a similar answer as expanding vol which starts with 60 window.\n",
    "\n",
    "https://robotwealth.com/rolling-and-expanding-windows-for-dummies/"
   ]
  },
  {
   "cell_type": "markdown",
   "metadata": {},
   "source": [
    "### 3. CVaR"
   ]
  },
  {
   "cell_type": "markdown",
   "metadata": {},
   "source": [
    "#### 3.1 Historic CVaR"
   ]
  },
  {
   "cell_type": "markdown",
   "metadata": {},
   "source": [
    "#### (a) Plot CVaR with percentile .05 "
   ]
  },
  {
   "cell_type": "code",
   "execution_count": 15,
   "metadata": {},
   "outputs": [
    {
     "data": {
      "text/plain": [
       "array([], shape=(0, 1160), dtype=float64)"
      ]
     },
     "execution_count": 15,
     "metadata": {},
     "output_type": "execute_result"
    }
   ],
   "source": [
    "return_data = bn[r'$\\tilde{r}$']\n",
    "historic_CVaR = np.empty(0,float)\n",
    "historic_CVaR.shape = (-1,len(return_data))\n",
    "historic_CVaR"
   ]
  },
  {
   "cell_type": "code",
   "execution_count": 16,
   "metadata": {},
   "outputs": [
    {
     "data": {
      "text/plain": [
       "array([        nan,         nan,         nan, ..., -0.12077719,\n",
       "       -0.12077719, -0.12084301])"
      ]
     },
     "execution_count": 16,
     "metadata": {},
     "output_type": "execute_result"
    }
   ],
   "source": [
    "for i in range(len(return_data)):\n",
    "    if i < 61:\n",
    "        historic_CVaR = np.append(historic_CVaR,np.nan)\n",
    "    else:\n",
    "        window = return_data[:i-1]\n",
    "        CVaR = window[window < window.quantile(0.05)].mean()\n",
    "        historic_CVaR = np.append(historic_CVaR,CVaR)\n",
    "historic_CVaR"
   ]
  },
  {
   "cell_type": "code",
   "execution_count": 17,
   "metadata": {},
   "outputs": [
    {
     "data": {
      "text/html": [
       "<div>\n",
       "<style scoped>\n",
       "    .dataframe tbody tr th:only-of-type {\n",
       "        vertical-align: middle;\n",
       "    }\n",
       "\n",
       "    .dataframe tbody tr th {\n",
       "        vertical-align: top;\n",
       "    }\n",
       "\n",
       "    .dataframe thead th {\n",
       "        text-align: right;\n",
       "    }\n",
       "</style>\n",
       "<table border=\"1\" class=\"dataframe\">\n",
       "  <thead>\n",
       "    <tr style=\"text-align: right;\">\n",
       "      <th></th>\n",
       "      <th>Historic CVaR</th>\n",
       "    </tr>\n",
       "    <tr>\n",
       "      <th>date</th>\n",
       "      <th></th>\n",
       "    </tr>\n",
       "  </thead>\n",
       "  <tbody>\n",
       "    <tr>\n",
       "      <th>1926-01-30</th>\n",
       "      <td>NaN</td>\n",
       "    </tr>\n",
       "    <tr>\n",
       "      <th>1926-02-27</th>\n",
       "      <td>NaN</td>\n",
       "    </tr>\n",
       "    <tr>\n",
       "      <th>1926-03-31</th>\n",
       "      <td>NaN</td>\n",
       "    </tr>\n",
       "    <tr>\n",
       "      <th>1926-04-30</th>\n",
       "      <td>NaN</td>\n",
       "    </tr>\n",
       "    <tr>\n",
       "      <th>1926-05-28</th>\n",
       "      <td>NaN</td>\n",
       "    </tr>\n",
       "    <tr>\n",
       "      <th>...</th>\n",
       "      <td>...</td>\n",
       "    </tr>\n",
       "    <tr>\n",
       "      <th>2022-04-29</th>\n",
       "      <td>-0.1206</td>\n",
       "    </tr>\n",
       "    <tr>\n",
       "      <th>2022-05-31</th>\n",
       "      <td>-0.1206</td>\n",
       "    </tr>\n",
       "    <tr>\n",
       "      <th>2022-06-30</th>\n",
       "      <td>-0.1208</td>\n",
       "    </tr>\n",
       "    <tr>\n",
       "      <th>2022-07-29</th>\n",
       "      <td>-0.1208</td>\n",
       "    </tr>\n",
       "    <tr>\n",
       "      <th>2022-08-31</th>\n",
       "      <td>-0.1208</td>\n",
       "    </tr>\n",
       "  </tbody>\n",
       "</table>\n",
       "<p>1160 rows × 1 columns</p>\n",
       "</div>"
      ],
      "text/plain": [
       "            Historic CVaR\n",
       "date                     \n",
       "1926-01-30            NaN\n",
       "1926-02-27            NaN\n",
       "1926-03-31            NaN\n",
       "1926-04-30            NaN\n",
       "1926-05-28            NaN\n",
       "...                   ...\n",
       "2022-04-29        -0.1206\n",
       "2022-05-31        -0.1206\n",
       "2022-06-30        -0.1208\n",
       "2022-07-29        -0.1208\n",
       "2022-08-31        -0.1208\n",
       "\n",
       "[1160 rows x 1 columns]"
      ]
     },
     "execution_count": 17,
     "metadata": {},
     "output_type": "execute_result"
    }
   ],
   "source": [
    "historic_CVaR_df = pd.DataFrame(historic_CVaR, index=return_data.index)\n",
    "historic_CVaR_df.columns = ['Historic CVaR']\n",
    "historic_CVaR_df"
   ]
  },
  {
   "cell_type": "code",
   "execution_count": 18,
   "metadata": {},
   "outputs": [
    {
     "data": {
      "image/png": "[encoded data removed]",
      "text/plain": [
       "<Figure size 432x288 with 1 Axes>"
      ]
     },
     "metadata": {
      "needs_background": "light"
     },
     "output_type": "display_data"
    }
   ],
   "source": [
    "historic_CVaR_df.plot()\n",
    "\n",
    "plt.title('Historic based CVaR')\n",
    "plt.xlabel('Date')\n",
    "plt.ylabel('CVaR')\n",
    "plt.show()"
   ]
  },
  {
   "cell_type": "markdown",
   "metadata": {},
   "source": [
    "#### (b) Frequency of periods when r_tilde is less than (a)"
   ]
  },
  {
   "cell_type": "code",
   "execution_count": 19,
   "metadata": {},
   "outputs": [
    {
     "data": {
      "text/plain": [
       "0.0078"
      ]
     },
     "execution_count": 19,
     "metadata": {},
     "output_type": "execute_result"
    }
   ],
   "source": [
    "freq_hcv = len(bn[r'$\\tilde{r}$'][bn[r'$\\tilde{r}$'] < historic_CVaR_df['Historic CVaR']]) / len(historic_CVaR_df['Historic CVaR'])#\n",
    "round(freq_hcv,4)"
   ]
  },
  {
   "cell_type": "markdown",
   "metadata": {},
   "source": [
    "#### (c) Drawback of historic based CVaR"
   ]
  },
  {
   "cell_type": "markdown",
   "metadata": {},
   "source": [
    "Historic based CVaR here doesn't match the 5% percentail threshold. It takes lots of history data into account, which results in a backward-looking indicator. Similarly, it's not reflecting current or recent movement of market as it reacts slowly. In addition, historic measurement also assigns equal weights on even 'ancient' data inputs, which causes the result not reflecting current events properly. "
   ]
  },
  {
   "cell_type": "markdown",
   "metadata": {},
   "source": [
    "### 3.2 Volatility"
   ]
  },
  {
   "cell_type": "markdown",
   "metadata": {},
   "source": [
    "#### (a) plot expanding and rolling CVaR"
   ]
  },
  {
   "cell_type": "code",
   "execution_count": 20,
   "metadata": {},
   "outputs": [],
   "source": [
    "#empirical cdf with 0.05 CI\n",
    "#(mu + alpha**-1 * norm.pdf(norm.ppf(alpha))* std) * portfolio_value\n",
    "#https://medium.com/@nikeshshrestha/portfolio-var-and-cvar-3ab7546d1865\n",
    "from scipy.stats import norm\n",
    "#0 df\n",
    "cvar = -stats.norm.pdf(1.65)* (0.05**-1)*vol\n",
    "cvar = cvar.rename(columns={'Expanding Vol':'Expanding CVaR','Rolling Vol':'Rolling CVaR'})\n",
    "#em_cvar"
   ]
  },
  {
   "cell_type": "code",
   "execution_count": 21,
   "metadata": {},
   "outputs": [
    {
     "data": {
      "image/png": "[encoded data removed]",
      "text/plain": [
       "<Figure size 432x288 with 1 Axes>"
      ]
     },
     "metadata": {
      "needs_background": "light"
     },
     "output_type": "display_data"
    }
   ],
   "source": [
    "cvar.plot()\n",
    "\n",
    "plt.title('CVaR Chart')\n",
    "plt.ylabel('CVaR')\n",
    "plt.xlabel('Date')\n",
    "plt.show()"
   ]
  },
  {
   "cell_type": "markdown",
   "metadata": {},
   "source": [
    "#### (b) CVaR_.05 = -1.65 * vol"
   ]
  },
  {
   "cell_type": "code",
   "execution_count": 22,
   "metadata": {},
   "outputs": [
    {
     "data": {
      "text/html": [
       "<div>\n",
       "<style scoped>\n",
       "    .dataframe tbody tr th:only-of-type {\n",
       "        vertical-align: middle;\n",
       "    }\n",
       "\n",
       "    .dataframe tbody tr th {\n",
       "        vertical-align: top;\n",
       "    }\n",
       "\n",
       "    .dataframe thead th {\n",
       "        text-align: right;\n",
       "    }\n",
       "</style>\n",
       "<table border=\"1\" class=\"dataframe\">\n",
       "  <thead>\n",
       "    <tr style=\"text-align: right;\">\n",
       "      <th></th>\n",
       "      <th>Expanding CVaR</th>\n",
       "      <th>Rolling CVaR</th>\n",
       "    </tr>\n",
       "    <tr>\n",
       "      <th>date</th>\n",
       "      <th></th>\n",
       "      <th></th>\n",
       "    </tr>\n",
       "  </thead>\n",
       "  <tbody>\n",
       "    <tr>\n",
       "      <th>1931-01-31</th>\n",
       "      <td>-0.2515</td>\n",
       "      <td>-0.2515</td>\n",
       "    </tr>\n",
       "    <tr>\n",
       "      <th>1931-02-28</th>\n",
       "      <td>-0.2514</td>\n",
       "      <td>-0.2535</td>\n",
       "    </tr>\n",
       "    <tr>\n",
       "      <th>1931-03-31</th>\n",
       "      <td>-0.2561</td>\n",
       "      <td>-0.2596</td>\n",
       "    </tr>\n",
       "    <tr>\n",
       "      <th>1931-04-30</th>\n",
       "      <td>-0.2567</td>\n",
       "      <td>-0.2603</td>\n",
       "    </tr>\n",
       "    <tr>\n",
       "      <th>1931-05-29</th>\n",
       "      <td>-0.2594</td>\n",
       "      <td>-0.2644</td>\n",
       "    </tr>\n",
       "  </tbody>\n",
       "</table>\n",
       "</div>"
      ],
      "text/plain": [
       "            Expanding CVaR  Rolling CVaR\n",
       "date                                    \n",
       "1931-01-31         -0.2515       -0.2515\n",
       "1931-02-28         -0.2514       -0.2535\n",
       "1931-03-31         -0.2561       -0.2596\n",
       "1931-04-30         -0.2567       -0.2603\n",
       "1931-05-29         -0.2594       -0.2644"
      ]
     },
     "execution_count": 22,
     "metadata": {},
     "output_type": "execute_result"
    }
   ],
   "source": [
    "scaled_cv = norm.pdf(1.65)/0.05 * cvar\n",
    "scaled_cv.head()"
   ]
  },
  {
   "cell_type": "markdown",
   "metadata": {},
   "source": [
    "#### (c) Frequency of periods when r_tilde is less than (b)"
   ]
  },
  {
   "cell_type": "code",
   "execution_count": 23,
   "metadata": {},
   "outputs": [
    {
     "data": {
      "text/html": [
       "<div>\n",
       "<style scoped>\n",
       "    .dataframe tbody tr th:only-of-type {\n",
       "        vertical-align: middle;\n",
       "    }\n",
       "\n",
       "    .dataframe tbody tr th {\n",
       "        vertical-align: top;\n",
       "    }\n",
       "\n",
       "    .dataframe thead th {\n",
       "        text-align: right;\n",
       "    }\n",
       "</style>\n",
       "<table border=\"1\" class=\"dataframe\">\n",
       "  <thead>\n",
       "    <tr style=\"text-align: right;\">\n",
       "      <th></th>\n",
       "      <th>Expanding CVaR</th>\n",
       "      <th>Rolling CVaR</th>\n",
       "    </tr>\n",
       "  </thead>\n",
       "  <tbody>\n",
       "    <tr>\n",
       "      <th>Frequency</th>\n",
       "      <td>0.0098</td>\n",
       "      <td>0.0305</td>\n",
       "    </tr>\n",
       "  </tbody>\n",
       "</table>\n",
       "</div>"
      ],
      "text/plain": [
       "           Expanding CVaR  Rolling CVaR\n",
       "Frequency          0.0098        0.0305"
      ]
     },
     "execution_count": 23,
     "metadata": {},
     "output_type": "execute_result"
    }
   ],
   "source": [
    "freq_cv = pd.DataFrame(index=['Frequency'], columns = cvar.columns)\n",
    "\n",
    "for col in freq_cv:\n",
    "    freq_cv[col] = len(cvar[bn.loc[cvar.index, r'$\\tilde{r}$'] < cvar[col]]) / len(cvar[col].dropna())\n",
    "    \n",
    "freq_cv"
   ]
  },
  {
   "cell_type": "markdown",
   "metadata": {},
   "source": [
    "#### (d) Compare with frequency of historic based var"
   ]
  },
  {
   "cell_type": "code",
   "execution_count": 24,
   "metadata": {},
   "outputs": [
    {
     "data": {
      "text/html": [
       "<div>\n",
       "<style scoped>\n",
       "    .dataframe tbody tr th:only-of-type {\n",
       "        vertical-align: middle;\n",
       "    }\n",
       "\n",
       "    .dataframe tbody tr th {\n",
       "        vertical-align: top;\n",
       "    }\n",
       "\n",
       "    .dataframe thead th {\n",
       "        text-align: right;\n",
       "    }\n",
       "</style>\n",
       "<table border=\"1\" class=\"dataframe\">\n",
       "  <thead>\n",
       "    <tr style=\"text-align: right;\">\n",
       "      <th></th>\n",
       "      <th>Expanding CVaR</th>\n",
       "      <th>Rolling CVaR</th>\n",
       "      <th>Historic CVaR</th>\n",
       "    </tr>\n",
       "  </thead>\n",
       "  <tbody>\n",
       "    <tr>\n",
       "      <th>Frequency</th>\n",
       "      <td>0.0098</td>\n",
       "      <td>0.0305</td>\n",
       "      <td>0.0078</td>\n",
       "    </tr>\n",
       "  </tbody>\n",
       "</table>\n",
       "</div>"
      ],
      "text/plain": [
       "           Expanding CVaR  Rolling CVaR  Historic CVaR\n",
       "Frequency          0.0098        0.0305         0.0078"
      ]
     },
     "execution_count": 24,
     "metadata": {},
     "output_type": "execute_result"
    }
   ],
   "source": [
    "freq_cv['Historic CVaR'] = freq_hcv\n",
    "freq_cv"
   ]
  },
  {
   "cell_type": "markdown",
   "metadata": {},
   "source": [
    "Here we see Expanding CVaR and Historic CVar have similar frequency and quite low comparing from rolling CVaR. It makes sense as expanding CVaR and historic CVaR are taking more historical data into account, while rolling CVarR uses the 60 day window."
   ]
  },
  {
   "cell_type": "markdown",
   "metadata": {},
   "source": [
    "## Estimating Underperformance"
   ]
  },
  {
   "cell_type": "markdown",
   "metadata": {},
   "source": [
    "### 1.Summary Stats"
   ]
  },
  {
   "cell_type": "markdown",
   "metadata": {},
   "source": [
    "#### (a) report stats"
   ]
  },
  {
   "cell_type": "code",
   "execution_count": 25,
   "metadata": {},
   "outputs": [],
   "source": [
    "def annualized_stats(data, annual_factor, log = False):\n",
    "    if log == False:\n",
    "        df = pd.DataFrame(data = None, \n",
    "                          index = [r'$r^{M}$',r'${\\tilde{r}^{M}}$',r'$r^{f}$'])\n",
    "    else: \n",
    "        df = pd.DataFrame(data = None, \n",
    "                      index = [r'log $r^{M}$',r'log ${\\tilde{r}^{M}}$',r'log $r^{f}$'])\n",
    "        \n",
    "    df[str(data.index[0].year) + '-' + str(data.index[-1].year) + r' $\\mu$'] = [data['SPX'].mean(),\n",
    "                                                                                data['SPX'].mean()-data['TB1M'].mean(),\n",
    "                                                                                data['TB1M'].mean()] \n",
    "    \n",
    "    df[str(data.index[0].year) + '-' + str(data.index[-1].year) + r' $\\mu$'] *= annual_factor\n",
    "    \n",
    "    df[str(data.index[0].year) + '-' + str(data.index[-1].year) + r' $\\sigma$'] = [data['SPX'].std(),\n",
    "                                                                                   (data['SPX']-data['TB1M']).std(),\n",
    "                                                                                   data['TB1M'].std()] \n",
    "    \n",
    "    df[str(data.index[0].year) + '-' + str(data.index[-1].year) + r' $\\sigma$'] *= np.sqrt(annual_factor)\n",
    "    \n",
    "    return df\n",
    "\n",
    "def join(df_list):\n",
    "    df = df_list[0]\n",
    "    \n",
    "    for df_ in df_list[1:]:\n",
    "        df = df.join(df_)\n",
    "    \n",
    "    return df\n",
    "\n",
    "stats_ = join([annualized_stats(bn.loc['1965':'1999'], 12),\n",
    "             annualized_stats(bn.loc['2000':], 12),\n",
    "             annualized_stats(bn.loc['1926':], 12)])\n",
    "\n",
    "log_stats = join([annualized_stats(log_bn.loc['1965':'1999'], 12, log = True),\n",
    "                 annualized_stats(log_bn.loc['2000':], 12, log = True),\n",
    "                 annualized_stats(log_bn.loc['1926':], 12, log = True)])\n",
    "\n",
    "stats_df = stats_.append(log_stats)"
   ]
  },
  {
   "cell_type": "code",
   "execution_count": 26,
   "metadata": {},
   "outputs": [
    {
     "data": {
      "text/html": [
       "<div>\n",
       "<style scoped>\n",
       "    .dataframe tbody tr th:only-of-type {\n",
       "        vertical-align: middle;\n",
       "    }\n",
       "\n",
       "    .dataframe tbody tr th {\n",
       "        vertical-align: top;\n",
       "    }\n",
       "\n",
       "    .dataframe thead th {\n",
       "        text-align: right;\n",
       "    }\n",
       "</style>\n",
       "<table border=\"1\" class=\"dataframe\">\n",
       "  <thead>\n",
       "    <tr style=\"text-align: right;\">\n",
       "      <th></th>\n",
       "      <th>1965-1999 $\\mu$</th>\n",
       "      <th>1965-1999 $\\sigma$</th>\n",
       "      <th>2000-2022 $\\mu$</th>\n",
       "      <th>2000-2022 $\\sigma$</th>\n",
       "      <th>1926-2022 $\\mu$</th>\n",
       "      <th>1926-2022 $\\sigma$</th>\n",
       "    </tr>\n",
       "  </thead>\n",
       "  <tbody>\n",
       "    <tr>\n",
       "      <th>$r^{M}$</th>\n",
       "      <td>0.1294</td>\n",
       "      <td>0.1494</td>\n",
       "      <td>0.0759</td>\n",
       "      <td>0.1526</td>\n",
       "      <td>0.1135</td>\n",
       "      <td>0.1874</td>\n",
       "    </tr>\n",
       "    <tr>\n",
       "      <th>${\\tilde{r}^{M}}$</th>\n",
       "      <td>0.0679</td>\n",
       "      <td>0.1502</td>\n",
       "      <td>0.0616</td>\n",
       "      <td>0.1531</td>\n",
       "      <td>0.0819</td>\n",
       "      <td>0.1881</td>\n",
       "    </tr>\n",
       "    <tr>\n",
       "      <th>$r^{f}$</th>\n",
       "      <td>0.0615</td>\n",
       "      <td>0.0072</td>\n",
       "      <td>0.0143</td>\n",
       "      <td>0.0050</td>\n",
       "      <td>0.0315</td>\n",
       "      <td>0.0086</td>\n",
       "    </tr>\n",
       "    <tr>\n",
       "      <th>log $r^{M}$</th>\n",
       "      <td>0.1176</td>\n",
       "      <td>0.1496</td>\n",
       "      <td>0.0640</td>\n",
       "      <td>0.1537</td>\n",
       "      <td>0.0957</td>\n",
       "      <td>0.1867</td>\n",
       "    </tr>\n",
       "    <tr>\n",
       "      <th>log ${\\tilde{r}^{M}}$</th>\n",
       "      <td>0.0563</td>\n",
       "      <td>0.1504</td>\n",
       "      <td>0.0497</td>\n",
       "      <td>0.1542</td>\n",
       "      <td>0.0642</td>\n",
       "      <td>0.1873</td>\n",
       "    </tr>\n",
       "    <tr>\n",
       "      <th>log $r^{f}$</th>\n",
       "      <td>0.0613</td>\n",
       "      <td>0.0071</td>\n",
       "      <td>0.0143</td>\n",
       "      <td>0.0050</td>\n",
       "      <td>0.0315</td>\n",
       "      <td>0.0085</td>\n",
       "    </tr>\n",
       "  </tbody>\n",
       "</table>\n",
       "</div>"
      ],
      "text/plain": [
       "                       1965-1999 $\\mu$  1965-1999 $\\sigma$  2000-2022 $\\mu$  \\\n",
       "$r^{M}$                         0.1294              0.1494           0.0759   \n",
       "${\\tilde{r}^{M}}$               0.0679              0.1502           0.0616   \n",
       "$r^{f}$                         0.0615              0.0072           0.0143   \n",
       "log $r^{M}$                     0.1176              0.1496           0.0640   \n",
       "log ${\\tilde{r}^{M}}$           0.0563              0.1504           0.0497   \n",
       "log $r^{f}$                     0.0613              0.0071           0.0143   \n",
       "\n",
       "                       2000-2022 $\\sigma$  1926-2022 $\\mu$  1926-2022 $\\sigma$  \n",
       "$r^{M}$                            0.1526           0.1135              0.1874  \n",
       "${\\tilde{r}^{M}}$                  0.1531           0.0819              0.1881  \n",
       "$r^{f}$                            0.0050           0.0315              0.0086  \n",
       "log $r^{M}$                        0.1537           0.0957              0.1867  \n",
       "log ${\\tilde{r}^{M}}$              0.1542           0.0642              0.1873  \n",
       "log $r^{f}$                        0.0050           0.0315              0.0085  "
      ]
     },
     "execution_count": 26,
     "metadata": {},
     "output_type": "execute_result"
    }
   ],
   "source": [
    "stats_df"
   ]
  },
  {
   "cell_type": "markdown",
   "metadata": {},
   "source": [
    "#### (b) Comment on stats"
   ]
  },
  {
   "cell_type": "markdown",
   "metadata": {},
   "source": [
    "mean return is higher, the highest among the three duration, in early years from 1965 to 1999 compared to number of 2000 to 2022 and overall duration, 1926 to 2022; however, the excessive return in two intervals are similar and the overall duration has slightly higher excessive return.\n",
    "\n",
    "the log return in term of 1965 to 1999 is the highest still, while the log excessive return of 2000 to 2022 is the lowest figure among the three.log sigmas of both mean return and excessive return in overall duration are the highest in both combinations and the earliest-year durations have lowest log-sigma."
   ]
  },
  {
   "cell_type": "markdown",
   "metadata": {},
   "source": [
    "### 2. Probabilities"
   ]
  },
  {
   "cell_type": "markdown",
   "metadata": {},
   "source": [
    "#### (a)subsample 1965-1999"
   ]
  },
  {
   "cell_type": "code",
   "execution_count": 27,
   "metadata": {},
   "outputs": [],
   "source": [
    "\n",
    "def prob_calc(h, tilde_mu, tilde_sigma):\n",
    "    return stats.norm.cdf(- np.sqrt(h) * tilde_mu / tilde_sigma)\n",
    "\n",
    "def prob(h, tilde_mu, tilde_sigma):\n",
    "    prob_df = pd.DataFrame(data = h, columns = ['h'])\n",
    "    \n",
    "    prob_df['Probability'] = prob_calc(prob_df['h'], tilde_mu, tilde_sigma)\n",
    "    \n",
    "    prob_df = prob_df.set_index('h')\n",
    "    \n",
    "    return prob_df"
   ]
  },
  {
   "cell_type": "code",
   "execution_count": 28,
   "metadata": {},
   "outputs": [
    {
     "data": {
      "text/html": [
       "<div>\n",
       "<style scoped>\n",
       "    .dataframe tbody tr th:only-of-type {\n",
       "        vertical-align: middle;\n",
       "    }\n",
       "\n",
       "    .dataframe tbody tr th {\n",
       "        vertical-align: top;\n",
       "    }\n",
       "\n",
       "    .dataframe thead th {\n",
       "        text-align: right;\n",
       "    }\n",
       "</style>\n",
       "<table border=\"1\" class=\"dataframe\">\n",
       "  <thead>\n",
       "    <tr style=\"text-align: right;\">\n",
       "      <th></th>\n",
       "      <th>Probability</th>\n",
       "    </tr>\n",
       "    <tr>\n",
       "      <th>h</th>\n",
       "      <th></th>\n",
       "    </tr>\n",
       "  </thead>\n",
       "  <tbody>\n",
       "    <tr>\n",
       "      <th>23</th>\n",
       "      <td>0.0364</td>\n",
       "    </tr>\n",
       "  </tbody>\n",
       "</table>\n",
       "</div>"
      ],
      "text/plain": [
       "    Probability\n",
       "h              \n",
       "23       0.0364"
      ]
     },
     "execution_count": 28,
     "metadata": {},
     "output_type": "execute_result"
    }
   ],
   "source": [
    "mu_tilde = stats_df.iloc[4, 0]\n",
    "sigma_tilde = stats_df.iloc[4, 1]\n",
    "h = 2022 - 1999 \n",
    "\n",
    "prob([h], mu_tilde, sigma_tilde)"
   ]
  },
  {
   "cell_type": "markdown",
   "metadata": {},
   "source": [
    "#### (b)h=15, h=30"
   ]
  },
  {
   "cell_type": "code",
   "execution_count": 29,
   "metadata": {},
   "outputs": [
    {
     "data": {
      "text/html": [
       "<div>\n",
       "<style scoped>\n",
       "    .dataframe tbody tr th:only-of-type {\n",
       "        vertical-align: middle;\n",
       "    }\n",
       "\n",
       "    .dataframe tbody tr th {\n",
       "        vertical-align: top;\n",
       "    }\n",
       "\n",
       "    .dataframe thead th {\n",
       "        text-align: right;\n",
       "    }\n",
       "</style>\n",
       "<table border=\"1\" class=\"dataframe\">\n",
       "  <thead>\n",
       "    <tr style=\"text-align: right;\">\n",
       "      <th></th>\n",
       "      <th>Probability</th>\n",
       "    </tr>\n",
       "    <tr>\n",
       "      <th>h</th>\n",
       "      <th></th>\n",
       "    </tr>\n",
       "  </thead>\n",
       "  <tbody>\n",
       "    <tr>\n",
       "      <th>15</th>\n",
       "      <td>0.0736</td>\n",
       "    </tr>\n",
       "    <tr>\n",
       "      <th>30</th>\n",
       "      <td>0.0202</td>\n",
       "    </tr>\n",
       "  </tbody>\n",
       "</table>\n",
       "</div>"
      ],
      "text/plain": [
       "    Probability\n",
       "h              \n",
       "15       0.0736\n",
       "30       0.0202"
      ]
     },
     "execution_count": 29,
     "metadata": {},
     "output_type": "execute_result"
    }
   ],
   "source": [
    "prob([15,30], mu_tilde, sigma_tilde)"
   ]
  },
  {
   "cell_type": "markdown",
   "metadata": {},
   "source": [
    "#### (c)Plot the prob for 0 < h < 30"
   ]
  },
  {
   "cell_type": "code",
   "execution_count": 30,
   "metadata": {},
   "outputs": [
    {
     "data": {
      "image/png": "[encoded data removed]",
      "text/plain": [
       "<Figure size 432x288 with 1 Axes>"
      ]
     },
     "metadata": {
      "needs_background": "light"
     },
     "output_type": "display_data"
    }
   ],
   "source": [
    "pb_horizon = prob(list(range(1,31)), mu_tilde, sigma_tilde)\n",
    "\n",
    "pb_horizon.plot()\n",
    "plt.title('Prob Horizon')\n",
    "plt.ylabel('Probability of Falling behind Cum. Rf Return')\n",
    "plt.xlabel('Horizon from 1 to 30')\n",
    "plt.show()\n"
   ]
  },
  {
   "cell_type": "markdown",
   "metadata": {},
   "source": [
    "### 3. 30-year Probabilities\n",
    "sample from 1965 to 2022"
   ]
  },
  {
   "cell_type": "code",
   "execution_count": 31,
   "metadata": {},
   "outputs": [
    {
     "data": {
      "text/html": [
       "<div>\n",
       "<style scoped>\n",
       "    .dataframe tbody tr th:only-of-type {\n",
       "        vertical-align: middle;\n",
       "    }\n",
       "\n",
       "    .dataframe tbody tr th {\n",
       "        vertical-align: top;\n",
       "    }\n",
       "\n",
       "    .dataframe thead th {\n",
       "        text-align: right;\n",
       "    }\n",
       "</style>\n",
       "<table border=\"1\" class=\"dataframe\">\n",
       "  <thead>\n",
       "    <tr style=\"text-align: right;\">\n",
       "      <th></th>\n",
       "      <th>Probability</th>\n",
       "    </tr>\n",
       "    <tr>\n",
       "      <th>h</th>\n",
       "      <th></th>\n",
       "    </tr>\n",
       "  </thead>\n",
       "  <tbody>\n",
       "    <tr>\n",
       "      <th>5</th>\n",
       "      <td>0.2124</td>\n",
       "    </tr>\n",
       "    <tr>\n",
       "      <th>10</th>\n",
       "      <td>0.1295</td>\n",
       "    </tr>\n",
       "    <tr>\n",
       "      <th>15</th>\n",
       "      <td>0.0834</td>\n",
       "    </tr>\n",
       "    <tr>\n",
       "      <th>20</th>\n",
       "      <td>0.0552</td>\n",
       "    </tr>\n",
       "    <tr>\n",
       "      <th>25</th>\n",
       "      <td>0.0372</td>\n",
       "    </tr>\n",
       "    <tr>\n",
       "      <th>30</th>\n",
       "      <td>0.0253</td>\n",
       "    </tr>\n",
       "  </tbody>\n",
       "</table>\n",
       "</div>"
      ],
      "text/plain": [
       "    Probability\n",
       "h              \n",
       "5        0.2124\n",
       "10       0.1295\n",
       "15       0.0834\n",
       "20       0.0552\n",
       "25       0.0372\n",
       "30       0.0253"
      ]
     },
     "execution_count": 31,
     "metadata": {},
     "output_type": "execute_result"
    }
   ],
   "source": [
    "#first construct the 1965 to 2022 dataframe\n",
    "log_1965 = log_bn.loc['1965':].dropna()\n",
    "mu_1965_t = (log_1965['SPX'].mean() - log_1965['TB1M'].mean())*12\n",
    "sigma_65_t = (log_1965['SPX'] - log_1965['TB1M']).std() * (12**0.5)\n",
    "\n",
    "prob(list(range(5,35,5)), mu_1965_t, sigma_65_t)"
   ]
  },
  {
   "cell_type": "code",
   "execution_count": 32,
   "metadata": {},
   "outputs": [
    {
     "data": {
      "text/html": [
       "<div>\n",
       "<style scoped>\n",
       "    .dataframe tbody tr th:only-of-type {\n",
       "        vertical-align: middle;\n",
       "    }\n",
       "\n",
       "    .dataframe tbody tr th {\n",
       "        vertical-align: top;\n",
       "    }\n",
       "\n",
       "    .dataframe thead th {\n",
       "        text-align: right;\n",
       "    }\n",
       "</style>\n",
       "<table border=\"1\" class=\"dataframe\">\n",
       "  <thead>\n",
       "    <tr style=\"text-align: right;\">\n",
       "      <th></th>\n",
       "      <th>Probability</th>\n",
       "    </tr>\n",
       "    <tr>\n",
       "      <th>h</th>\n",
       "      <th></th>\n",
       "    </tr>\n",
       "  </thead>\n",
       "  <tbody>\n",
       "    <tr>\n",
       "      <th>30</th>\n",
       "      <td>0.0253</td>\n",
       "    </tr>\n",
       "  </tbody>\n",
       "</table>\n",
       "</div>"
      ],
      "text/plain": [
       "    Probability\n",
       "h              \n",
       "30       0.0253"
      ]
     },
     "execution_count": 32,
     "metadata": {},
     "output_type": "execute_result"
    }
   ],
   "source": [
    "prob([30], mu_1965_t, sigma_65_t)"
   ]
  },
  {
   "cell_type": "markdown",
   "metadata": {},
   "source": [
    "### 4. Expectations"
   ]
  },
  {
   "cell_type": "markdown",
   "metadata": {},
   "source": [
    "#### (a)Prob(23year-return < realized 2000-2022)\n",
    "P(1999 < 2000-2022) => P('1999'-'2000-2022' < 0)"
   ]
  },
  {
   "cell_type": "code",
   "execution_count": 33,
   "metadata": {},
   "outputs": [
    {
     "data": {
      "text/html": [
       "<div>\n",
       "<style scoped>\n",
       "    .dataframe tbody tr th:only-of-type {\n",
       "        vertical-align: middle;\n",
       "    }\n",
       "\n",
       "    .dataframe tbody tr th {\n",
       "        vertical-align: top;\n",
       "    }\n",
       "\n",
       "    .dataframe thead th {\n",
       "        text-align: right;\n",
       "    }\n",
       "</style>\n",
       "<table border=\"1\" class=\"dataframe\">\n",
       "  <thead>\n",
       "    <tr style=\"text-align: right;\">\n",
       "      <th></th>\n",
       "      <th>1965-1999 $\\mu$</th>\n",
       "      <th>1965-1999 $\\sigma$</th>\n",
       "      <th>2000-2022 $\\mu$</th>\n",
       "      <th>2000-2022 $\\sigma$</th>\n",
       "      <th>1926-2022 $\\mu$</th>\n",
       "      <th>1926-2022 $\\sigma$</th>\n",
       "    </tr>\n",
       "  </thead>\n",
       "  <tbody>\n",
       "    <tr>\n",
       "      <th>$r^{M}$</th>\n",
       "      <td>0.1294</td>\n",
       "      <td>0.1494</td>\n",
       "      <td>0.0759</td>\n",
       "      <td>0.1526</td>\n",
       "      <td>0.1135</td>\n",
       "      <td>0.1874</td>\n",
       "    </tr>\n",
       "    <tr>\n",
       "      <th>${\\tilde{r}^{M}}$</th>\n",
       "      <td>0.0679</td>\n",
       "      <td>0.1502</td>\n",
       "      <td>0.0616</td>\n",
       "      <td>0.1531</td>\n",
       "      <td>0.0819</td>\n",
       "      <td>0.1881</td>\n",
       "    </tr>\n",
       "    <tr>\n",
       "      <th>$r^{f}$</th>\n",
       "      <td>0.0615</td>\n",
       "      <td>0.0072</td>\n",
       "      <td>0.0143</td>\n",
       "      <td>0.0050</td>\n",
       "      <td>0.0315</td>\n",
       "      <td>0.0086</td>\n",
       "    </tr>\n",
       "    <tr>\n",
       "      <th>log $r^{M}$</th>\n",
       "      <td>0.1176</td>\n",
       "      <td>0.1496</td>\n",
       "      <td>0.0640</td>\n",
       "      <td>0.1537</td>\n",
       "      <td>0.0957</td>\n",
       "      <td>0.1867</td>\n",
       "    </tr>\n",
       "    <tr>\n",
       "      <th>log ${\\tilde{r}^{M}}$</th>\n",
       "      <td>0.0563</td>\n",
       "      <td>0.1504</td>\n",
       "      <td>0.0497</td>\n",
       "      <td>0.1542</td>\n",
       "      <td>0.0642</td>\n",
       "      <td>0.1873</td>\n",
       "    </tr>\n",
       "    <tr>\n",
       "      <th>log $r^{f}$</th>\n",
       "      <td>0.0613</td>\n",
       "      <td>0.0071</td>\n",
       "      <td>0.0143</td>\n",
       "      <td>0.0050</td>\n",
       "      <td>0.0315</td>\n",
       "      <td>0.0085</td>\n",
       "    </tr>\n",
       "  </tbody>\n",
       "</table>\n",
       "</div>"
      ],
      "text/plain": [
       "                       1965-1999 $\\mu$  1965-1999 $\\sigma$  2000-2022 $\\mu$  \\\n",
       "$r^{M}$                         0.1294              0.1494           0.0759   \n",
       "${\\tilde{r}^{M}}$               0.0679              0.1502           0.0616   \n",
       "$r^{f}$                         0.0615              0.0072           0.0143   \n",
       "log $r^{M}$                     0.1176              0.1496           0.0640   \n",
       "log ${\\tilde{r}^{M}}$           0.0563              0.1504           0.0497   \n",
       "log $r^{f}$                     0.0613              0.0071           0.0143   \n",
       "\n",
       "                       2000-2022 $\\sigma$  1926-2022 $\\mu$  1926-2022 $\\sigma$  \n",
       "$r^{M}$                            0.1526           0.1135              0.1874  \n",
       "${\\tilde{r}^{M}}$                  0.1531           0.0819              0.1881  \n",
       "$r^{f}$                            0.0050           0.0315              0.0086  \n",
       "log $r^{M}$                        0.1537           0.0957              0.1867  \n",
       "log ${\\tilde{r}^{M}}$              0.1542           0.0642              0.1873  \n",
       "log $r^{f}$                        0.0050           0.0315              0.0085  "
      ]
     },
     "execution_count": 33,
     "metadata": {},
     "output_type": "execute_result"
    }
   ],
   "source": [
    "stats_df"
   ]
  },
  {
   "cell_type": "code",
   "execution_count": 34,
   "metadata": {},
   "outputs": [
    {
     "data": {
      "text/html": [
       "<div>\n",
       "<style scoped>\n",
       "    .dataframe tbody tr th:only-of-type {\n",
       "        vertical-align: middle;\n",
       "    }\n",
       "\n",
       "    .dataframe tbody tr th {\n",
       "        vertical-align: top;\n",
       "    }\n",
       "\n",
       "    .dataframe thead th {\n",
       "        text-align: right;\n",
       "    }\n",
       "</style>\n",
       "<table border=\"1\" class=\"dataframe\">\n",
       "  <thead>\n",
       "    <tr style=\"text-align: right;\">\n",
       "      <th></th>\n",
       "      <th>Probability</th>\n",
       "    </tr>\n",
       "    <tr>\n",
       "      <th>h</th>\n",
       "      <th></th>\n",
       "    </tr>\n",
       "  </thead>\n",
       "  <tbody>\n",
       "    <tr>\n",
       "      <th>23</th>\n",
       "      <td>0.0429</td>\n",
       "    </tr>\n",
       "  </tbody>\n",
       "</table>\n",
       "</div>"
      ],
      "text/plain": [
       "    Probability\n",
       "h              \n",
       "23       0.0429"
      ]
     },
     "execution_count": 34,
     "metadata": {},
     "output_type": "execute_result"
    }
   ],
   "source": [
    "mu = stats_df.iloc[3,0]\n",
    "r_bar = stats_df.iloc[3,2]\n",
    "sigma = stats_df.iloc[3,1]\n",
    "h=2022-1999\n",
    "#mu-r_bar\n",
    "prob([h], mu-r_bar, sigma)"
   ]
  },
  {
   "cell_type": "markdown",
   "metadata": {},
   "source": [
    "#### (b)Put-Call implementation with strike = .06\n",
    "prob(2000-2029 mkt is low enough for put to be profitable)"
   ]
  },
  {
   "cell_type": "code",
   "execution_count": 35,
   "metadata": {},
   "outputs": [
    {
     "data": {
      "text/html": [
       "<div>\n",
       "<style scoped>\n",
       "    .dataframe tbody tr th:only-of-type {\n",
       "        vertical-align: middle;\n",
       "    }\n",
       "\n",
       "    .dataframe tbody tr th {\n",
       "        vertical-align: top;\n",
       "    }\n",
       "\n",
       "    .dataframe thead th {\n",
       "        text-align: right;\n",
       "    }\n",
       "</style>\n",
       "<table border=\"1\" class=\"dataframe\">\n",
       "  <thead>\n",
       "    <tr style=\"text-align: right;\">\n",
       "      <th></th>\n",
       "      <th>Probability</th>\n",
       "    </tr>\n",
       "    <tr>\n",
       "      <th>h</th>\n",
       "      <th></th>\n",
       "    </tr>\n",
       "  </thead>\n",
       "  <tbody>\n",
       "    <tr>\n",
       "      <th>7</th>\n",
       "      <td>0.1539</td>\n",
       "    </tr>\n",
       "  </tbody>\n",
       "</table>\n",
       "</div>"
      ],
      "text/plain": [
       "   Probability\n",
       "h             \n",
       "7       0.1539"
      ]
     },
     "execution_count": 35,
     "metadata": {},
     "output_type": "execute_result"
    }
   ],
   "source": [
    "k = np.log(1.06)\n",
    "\n",
    "mu_65 = log_1965['SPX'].mean()*12\n",
    "\n",
    "sigma_65 = log_1965['SPX'].std() * (12** 0.5)\n",
    "\n",
    "#mu = 22/8 * (stats_df.iloc[3,2] - k) + mu_65 - k\n",
    "\n",
    "mu = 23/7 * (stats_df.iloc[3,2] - k) + mu_65 - k\n",
    "\n",
    "prob([7], mu, sigma)"
   ]
  },
  {
   "cell_type": "code",
   "execution_count": 36,
   "metadata": {},
   "outputs": [
    {
     "data": {
      "text/plain": [
       "0.05765562898121819"
      ]
     },
     "execution_count": 36,
     "metadata": {},
     "output_type": "execute_result"
    }
   ],
   "source": [
    "mu"
   ]
  },
  {
   "cell_type": "code",
   "execution_count": null,
   "metadata": {},
   "outputs": [],
   "source": []
  },
  {
   "cell_type": "code",
   "execution_count": null,
   "metadata": {},
   "outputs": [],
   "source": []
  }
 ],
 "metadata": {
  "kernelspec": {
   "display_name": "Python 3",
   "language": "python",
   "name": "python3"
  },
  "language_info": {
   "codemirror_mode": {
    "name": "ipython",
    "version": 3
   },
   "file_extension": ".py",
   "mimetype": "text/x-python",
   "name": "python",
   "nbconvert_exporter": "python",
   "pygments_lexer": "ipython3",
   "version": "3.8.8"
  }
 },
 "nbformat": 4,
 "nbformat_minor": 4
}
